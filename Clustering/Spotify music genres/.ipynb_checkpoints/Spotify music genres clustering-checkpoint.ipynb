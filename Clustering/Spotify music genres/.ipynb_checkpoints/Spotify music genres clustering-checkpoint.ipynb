{
 "cells": [
  {
   "cell_type": "code",
   "execution_count": 3,
   "id": "323491ff",
   "metadata": {},
   "outputs": [],
   "source": [
    "import pandas as pd\n",
    "import numpy as np"
   ]
  },
  {
   "cell_type": "code",
   "execution_count": 5,
   "id": "b7193de9",
   "metadata": {
    "scrolled": true
   },
   "outputs": [
    {
     "name": "stderr",
     "output_type": "stream",
     "text": [
      "/opt/anaconda3/envs/tensorflowEnv/lib/python3.7/site-packages/IPython/core/interactiveshell.py:3166: DtypeWarning: Columns (11,18) have mixed types.Specify dtype option on import or set low_memory=False.\n",
      "  interactivity=interactivity, compiler=compiler, result=result)\n"
     ]
    },
    {
     "data": {
      "text/html": [
       "<div>\n",
       "<style scoped>\n",
       "    .dataframe tbody tr th:only-of-type {\n",
       "        vertical-align: middle;\n",
       "    }\n",
       "\n",
       "    .dataframe tbody tr th {\n",
       "        vertical-align: top;\n",
       "    }\n",
       "\n",
       "    .dataframe thead th {\n",
       "        text-align: right;\n",
       "    }\n",
       "</style>\n",
       "<table border=\"1\" class=\"dataframe\">\n",
       "  <thead>\n",
       "    <tr style=\"text-align: right;\">\n",
       "      <th></th>\n",
       "      <th>Name</th>\n",
       "      <th>Danceability</th>\n",
       "      <th>Energy</th>\n",
       "      <th>Key</th>\n",
       "      <th>Loudness</th>\n",
       "      <th>Mode</th>\n",
       "      <th>Speechness</th>\n",
       "      <th>Acousticness</th>\n",
       "      <th>Instrumentalness</th>\n",
       "      <th>Liveness</th>\n",
       "      <th>Valence</th>\n",
       "      <th>Tempo</th>\n",
       "      <th>Type</th>\n",
       "      <th>ID</th>\n",
       "      <th>Uri</th>\n",
       "      <th>Ref_Track</th>\n",
       "      <th>URL_features</th>\n",
       "      <th>Duration_ms</th>\n",
       "      <th>time_signature</th>\n",
       "      <th>Genre</th>\n",
       "    </tr>\n",
       "  </thead>\n",
       "  <tbody>\n",
       "    <tr>\n",
       "      <th>0</th>\n",
       "      <td>YuveYuveYu</td>\n",
       "      <td>0.624</td>\n",
       "      <td>0.857</td>\n",
       "      <td>10.0</td>\n",
       "      <td>-6.250</td>\n",
       "      <td>0.0</td>\n",
       "      <td>0.0542</td>\n",
       "      <td>0.020800</td>\n",
       "      <td>0.206000</td>\n",
       "      <td>0.110</td>\n",
       "      <td>0.324</td>\n",
       "      <td>131.926</td>\n",
       "      <td>audio_features</td>\n",
       "      <td>6J2VvzKwWc2f0JP5RQVZjq</td>\n",
       "      <td>spotify:track:6J2VvzKwWc2f0JP5RQVZjq</td>\n",
       "      <td>https://api.spotify.com/v1/tracks/6J2VvzKwWc2f...</td>\n",
       "      <td>https://api.spotify.com/v1/audio-analysis/6J2V...</td>\n",
       "      <td>282920.0</td>\n",
       "      <td>4.0</td>\n",
       "      <td>celticmetal</td>\n",
       "    </tr>\n",
       "    <tr>\n",
       "      <th>1</th>\n",
       "      <td>Gloryhammer</td>\n",
       "      <td>0.517</td>\n",
       "      <td>0.916</td>\n",
       "      <td>0.0</td>\n",
       "      <td>-4.933</td>\n",
       "      <td>1.0</td>\n",
       "      <td>0.0559</td>\n",
       "      <td>0.000182</td>\n",
       "      <td>0.001910</td>\n",
       "      <td>0.306</td>\n",
       "      <td>0.444</td>\n",
       "      <td>135.996</td>\n",
       "      <td>audio_features</td>\n",
       "      <td>4HA34COgxgVJ6zK88UN4Ik</td>\n",
       "      <td>spotify:track:4HA34COgxgVJ6zK88UN4Ik</td>\n",
       "      <td>https://api.spotify.com/v1/tracks/4HA34COgxgVJ...</td>\n",
       "      <td>https://api.spotify.com/v1/audio-analysis/4HA3...</td>\n",
       "      <td>300320.0</td>\n",
       "      <td>4.0</td>\n",
       "      <td>celticmetal</td>\n",
       "    </tr>\n",
       "    <tr>\n",
       "      <th>2</th>\n",
       "      <td>Nostos</td>\n",
       "      <td>0.251</td>\n",
       "      <td>0.894</td>\n",
       "      <td>8.0</td>\n",
       "      <td>-4.103</td>\n",
       "      <td>0.0</td>\n",
       "      <td>0.0570</td>\n",
       "      <td>0.014400</td>\n",
       "      <td>0.000000</td>\n",
       "      <td>0.123</td>\n",
       "      <td>0.297</td>\n",
       "      <td>114.223</td>\n",
       "      <td>audio_features</td>\n",
       "      <td>3W6Xik6Xxf06JuUoZSATlD</td>\n",
       "      <td>spotify:track:3W6Xik6Xxf06JuUoZSATlD</td>\n",
       "      <td>https://api.spotify.com/v1/tracks/3W6Xik6Xxf06...</td>\n",
       "      <td>https://api.spotify.com/v1/audio-analysis/3W6X...</td>\n",
       "      <td>175353.0</td>\n",
       "      <td>4.0</td>\n",
       "      <td>celticmetal</td>\n",
       "    </tr>\n",
       "    <tr>\n",
       "      <th>3</th>\n",
       "      <td>Yggdrasil</td>\n",
       "      <td>0.469</td>\n",
       "      <td>0.743</td>\n",
       "      <td>1.0</td>\n",
       "      <td>-5.570</td>\n",
       "      <td>0.0</td>\n",
       "      <td>0.0272</td>\n",
       "      <td>0.002220</td>\n",
       "      <td>0.000111</td>\n",
       "      <td>0.276</td>\n",
       "      <td>0.481</td>\n",
       "      <td>86.953</td>\n",
       "      <td>audio_features</td>\n",
       "      <td>2gGveBaLJQMtJ43X4UL5kH</td>\n",
       "      <td>spotify:track:2gGveBaLJQMtJ43X4UL5kH</td>\n",
       "      <td>https://api.spotify.com/v1/tracks/2gGveBaLJQMt...</td>\n",
       "      <td>https://api.spotify.com/v1/audio-analysis/2gGv...</td>\n",
       "      <td>272292.0</td>\n",
       "      <td>4.0</td>\n",
       "      <td>celticmetal</td>\n",
       "    </tr>\n",
       "    <tr>\n",
       "      <th>4</th>\n",
       "      <td>Incense&amp;Iron</td>\n",
       "      <td>0.487</td>\n",
       "      <td>0.952</td>\n",
       "      <td>1.0</td>\n",
       "      <td>-4.429</td>\n",
       "      <td>0.0</td>\n",
       "      <td>0.0613</td>\n",
       "      <td>0.000228</td>\n",
       "      <td>0.000000</td>\n",
       "      <td>0.161</td>\n",
       "      <td>0.329</td>\n",
       "      <td>125.993</td>\n",
       "      <td>audio_features</td>\n",
       "      <td>1lRF81A1C9QoCgBcEop2zg</td>\n",
       "      <td>spotify:track:1lRF81A1C9QoCgBcEop2zg</td>\n",
       "      <td>https://api.spotify.com/v1/tracks/1lRF81A1C9Qo...</td>\n",
       "      <td>https://api.spotify.com/v1/audio-analysis/1lRF...</td>\n",
       "      <td>237933.0</td>\n",
       "      <td>4.0</td>\n",
       "      <td>celticmetal</td>\n",
       "    </tr>\n",
       "  </tbody>\n",
       "</table>\n",
       "</div>"
      ],
      "text/plain": [
       "           Name  Danceability  Energy   Key  Loudness  Mode  Speechness  \\\n",
       "0    YuveYuveYu         0.624   0.857  10.0    -6.250   0.0      0.0542   \n",
       "1   Gloryhammer         0.517   0.916   0.0    -4.933   1.0      0.0559   \n",
       "2        Nostos         0.251   0.894   8.0    -4.103   0.0      0.0570   \n",
       "3     Yggdrasil         0.469   0.743   1.0    -5.570   0.0      0.0272   \n",
       "4  Incense&Iron         0.487   0.952   1.0    -4.429   0.0      0.0613   \n",
       "\n",
       "   Acousticness  Instrumentalness  Liveness  Valence    Tempo            Type  \\\n",
       "0      0.020800          0.206000     0.110    0.324  131.926  audio_features   \n",
       "1      0.000182          0.001910     0.306    0.444  135.996  audio_features   \n",
       "2      0.014400          0.000000     0.123    0.297  114.223  audio_features   \n",
       "3      0.002220          0.000111     0.276    0.481   86.953  audio_features   \n",
       "4      0.000228          0.000000     0.161    0.329  125.993  audio_features   \n",
       "\n",
       "                       ID                                   Uri  \\\n",
       "0  6J2VvzKwWc2f0JP5RQVZjq  spotify:track:6J2VvzKwWc2f0JP5RQVZjq   \n",
       "1  4HA34COgxgVJ6zK88UN4Ik  spotify:track:4HA34COgxgVJ6zK88UN4Ik   \n",
       "2  3W6Xik6Xxf06JuUoZSATlD  spotify:track:3W6Xik6Xxf06JuUoZSATlD   \n",
       "3  2gGveBaLJQMtJ43X4UL5kH  spotify:track:2gGveBaLJQMtJ43X4UL5kH   \n",
       "4  1lRF81A1C9QoCgBcEop2zg  spotify:track:1lRF81A1C9QoCgBcEop2zg   \n",
       "\n",
       "                                           Ref_Track  \\\n",
       "0  https://api.spotify.com/v1/tracks/6J2VvzKwWc2f...   \n",
       "1  https://api.spotify.com/v1/tracks/4HA34COgxgVJ...   \n",
       "2  https://api.spotify.com/v1/tracks/3W6Xik6Xxf06...   \n",
       "3  https://api.spotify.com/v1/tracks/2gGveBaLJQMt...   \n",
       "4  https://api.spotify.com/v1/tracks/1lRF81A1C9Qo...   \n",
       "\n",
       "                                        URL_features  Duration_ms  \\\n",
       "0  https://api.spotify.com/v1/audio-analysis/6J2V...     282920.0   \n",
       "1  https://api.spotify.com/v1/audio-analysis/4HA3...     300320.0   \n",
       "2  https://api.spotify.com/v1/audio-analysis/3W6X...     175353.0   \n",
       "3  https://api.spotify.com/v1/audio-analysis/2gGv...     272292.0   \n",
       "4  https://api.spotify.com/v1/audio-analysis/1lRF...     237933.0   \n",
       "\n",
       "  time_signature        Genre  \n",
       "0            4.0  celticmetal  \n",
       "1            4.0  celticmetal  \n",
       "2            4.0  celticmetal  \n",
       "3            4.0  celticmetal  \n",
       "4            4.0  celticmetal  "
      ]
     },
     "execution_count": 5,
     "metadata": {},
     "output_type": "execute_result"
    }
   ],
   "source": [
    "songDb = pd.read_csv('./data/songDb.tsv',sep='\\t')\n",
    "songDb.head()"
   ]
  },
  {
   "cell_type": "code",
   "execution_count": 7,
   "id": "ec68041d",
   "metadata": {},
   "outputs": [
    {
     "data": {
      "text/plain": [
       "alternativeamericana    1891\n",
       "electrolatino           1009\n",
       "doo-wop                  972\n",
       "reading                  969\n",
       "nuelectro                909\n",
       "                        ... \n",
       "azeripop                   2\n",
       "russianelectronic          2\n",
       "turkishhiphop              1\n",
       "balticfolk                 1\n",
       "modernperformance          1\n",
       "Name: Genre, Length: 625, dtype: int64"
      ]
     },
     "execution_count": 7,
     "metadata": {},
     "output_type": "execute_result"
    }
   ],
   "source": [
    "songDb['Genre'].value_counts()"
   ]
  },
  {
   "cell_type": "code",
   "execution_count": 9,
   "id": "a83cb941",
   "metadata": {},
   "outputs": [
    {
     "data": {
      "text/html": [
       "<div>\n",
       "<style scoped>\n",
       "    .dataframe tbody tr th:only-of-type {\n",
       "        vertical-align: middle;\n",
       "    }\n",
       "\n",
       "    .dataframe tbody tr th {\n",
       "        vertical-align: top;\n",
       "    }\n",
       "\n",
       "    .dataframe thead th {\n",
       "        text-align: right;\n",
       "    }\n",
       "</style>\n",
       "<table border=\"1\" class=\"dataframe\">\n",
       "  <thead>\n",
       "    <tr style=\"text-align: right;\">\n",
       "      <th></th>\n",
       "      <th>0</th>\n",
       "    </tr>\n",
       "  </thead>\n",
       "  <tbody>\n",
       "    <tr>\n",
       "      <th>0</th>\n",
       "      <td>reggaeton</td>\n",
       "    </tr>\n",
       "    <tr>\n",
       "      <th>1</th>\n",
       "      <td>cumbia peruana</td>\n",
       "    </tr>\n",
       "    <tr>\n",
       "      <th>2</th>\n",
       "      <td>french hip hop</td>\n",
       "    </tr>\n",
       "    <tr>\n",
       "      <th>3</th>\n",
       "      <td>musique acadienne</td>\n",
       "    </tr>\n",
       "    <tr>\n",
       "      <th>4</th>\n",
       "      <td>deep rai</td>\n",
       "    </tr>\n",
       "  </tbody>\n",
       "</table>\n",
       "</div>"
      ],
      "text/plain": [
       "                   0\n",
       "0          reggaeton\n",
       "1     cumbia peruana\n",
       "2     french hip hop\n",
       "3  musique acadienne\n",
       "4           deep rai"
      ]
     },
     "execution_count": 9,
     "metadata": {},
     "output_type": "execute_result"
    }
   ],
   "source": [
    "genreDs = pd.read_csv('./data/genre_dataset.txt',sep='\\t', header=None)\n",
    "genreDs.head()"
   ]
  },
  {
   "cell_type": "code",
   "execution_count": 10,
   "id": "83023651",
   "metadata": {},
   "outputs": [
    {
     "data": {
      "text/plain": [
       "21st century classical    1\n",
       "nica                      1\n",
       "nigerian pop              1\n",
       "nightrun                  1\n",
       "ninja                     1\n",
       "                         ..\n",
       "electric blues            1\n",
       "electro                   1\n",
       "electro bailando          1\n",
       "electro dub               1\n",
       "zydeco                    1\n",
       "Length: 2881, dtype: int64"
      ]
     },
     "execution_count": 10,
     "metadata": {},
     "output_type": "execute_result"
    }
   ],
   "source": [
    "genreDs.value_counts()"
   ]
  },
  {
   "cell_type": "code",
   "execution_count": 21,
   "id": "2a80e31f",
   "metadata": {},
   "outputs": [
    {
     "data": {
      "text/plain": [
       "0              reggaeton\n",
       "1          cumbiaperuana\n",
       "2           frenchhiphop\n",
       "3       musiqueacadienne\n",
       "4                deeprai\n",
       "              ...       \n",
       "2724         bostonmetal\n",
       "2740          channelpop\n",
       "2770          futurefunk\n",
       "2799              dmvrap\n",
       "2854             worship\n",
       "Name: 0, Length: 625, dtype: object"
      ]
     },
     "execution_count": 21,
     "metadata": {},
     "output_type": "execute_result"
    }
   ],
   "source": [
    "tdf = genreDs[0].apply(lambda x: x.replace(\" \", \"\"))\n",
    "tdf[tdf.isin(songDb['Genre'])]"
   ]
  },
  {
   "cell_type": "code",
   "execution_count": null,
   "id": "3a7536b3",
   "metadata": {},
   "outputs": [],
   "source": []
  }
 ],
 "metadata": {
  "kernelspec": {
   "display_name": "Python 3",
   "language": "python",
   "name": "python3"
  },
  "language_info": {
   "codemirror_mode": {
    "name": "ipython",
    "version": 3
   },
   "file_extension": ".py",
   "mimetype": "text/x-python",
   "name": "python",
   "nbconvert_exporter": "python",
   "pygments_lexer": "ipython3",
   "version": "3.7.10"
  }
 },
 "nbformat": 4,
 "nbformat_minor": 5
}
