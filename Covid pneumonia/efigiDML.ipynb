{
 "cells": [
  {
   "cell_type": "markdown",
   "metadata": {},
   "source": [
    "!pip uninstall -y scikit-learn\n",
    "!pip uninstall -y pandas"
   ]
  },
  {
   "cell_type": "markdown",
   "metadata": {},
   "source": [
    "#!pip install scikit-learn==0.21.1\n",
    "#!pip install pandas==0.24.2\n",
    "#!pip3 install pandas_ml \n",
    "#!pip3 install pytorch_metric_learning \n",
    "!pip3 install faiss-cpu faiss-gpu"
   ]
  },
  {
   "cell_type": "code",
   "execution_count": 1,
   "metadata": {},
   "outputs": [
    {
     "data": {
      "text/plain": [
       "['/floyd/home',\n",
       " '/usr/local/lib/python37.zip',\n",
       " '/usr/local/lib/python3.7',\n",
       " '/usr/local/lib/python3.7/lib-dynload',\n",
       " '',\n",
       " '/usr/local/lib/python3.7/site-packages',\n",
       " '/usr/local/lib/python3.7/site-packages/xgboost-1.0.2-py3.7.egg',\n",
       " '/usr/local/lib/python3.7/site-packages/IPython/extensions',\n",
       " '/root/.ipython',\n",
       " 'pytorch_sol2/']"
      ]
     },
     "execution_count": 1,
     "metadata": {},
     "output_type": "execute_result"
    }
   ],
   "source": [
    "import os, sys\n",
    "sys.path.append('pytorch_sol2/')\n",
    "sys.path"
   ]
  },
  {
   "cell_type": "markdown",
   "metadata": {},
   "source": [
    "import torch\n",
    "torch.__version__"
   ]
  },
  {
   "cell_type": "code",
   "execution_count": 2,
   "metadata": {},
   "outputs": [],
   "source": [
    "import pandas as pd\n",
    "import numpy as np\n",
    "from torchvision import datasets, models, transforms\n",
    "from torch.utils.data import Dataset, DataLoader\n",
    "from torch.utils.data.sampler import SubsetRandomSampler\n",
    "from skimage import io, transform\n",
    "import matplotlib.pyplot as plt\n",
    "import torch\n",
    "import torch.nn as nn\n",
    "import torch.optim as optim\n",
    "from torch.optim import lr_scheduler\n",
    "import torchvision\n",
    "from torchvision import datasets, models, transforms\n",
    "from sklearn.metrics import confusion_matrix\n",
    "from sklearn.model_selection import train_test_split\n",
    "from sklearn.metrics import f1_score\n",
    "import torch.nn.functional as F\n",
    "\n",
    "from config import *\n",
    "from GalaxiesDataset import *\n",
    "from rsa_loader import *\n",
    "from efigi_loader import *\n",
    "from pytorchtools import EarlyStopping\n",
    "from myEfigiDML import *\n",
    "\n",
    "import pickle\n",
    "from label_smoothing import LabelSmoothingCrossEntropy\n",
    "import warnings\n",
    "warnings.filterwarnings('ignore')"
   ]
  },
  {
   "cell_type": "markdown",
   "metadata": {
    "id": "KowIJ5ipz4Ef"
   },
   "source": [
    "from pytorch_metric_learning import losses, miners, distances, reducers, testers, regularizers\n",
    "from pytorch_metric_learning.utils.accuracy_calculator import AccuracyCalculator"
   ]
  },
  {
   "cell_type": "code",
   "execution_count": 3,
   "metadata": {
    "id": "zs1TiAevzPed"
   },
   "outputs": [],
   "source": [
    "transf = transforms.Compose([transforms.Resize((105, 105)),\n",
    "                             transforms.RandomHorizontalFlip(p=0.5),\n",
    "                             transforms.RandomRotation(degrees=(0,360)),\n",
    "                             transforms.RandomVerticalFlip(p=0.5),\n",
    "                             transforms.ToTensor(),\n",
    "                             transforms.Normalize(mean=[0.485, 0.456, 0.406],\n",
    "                                                  std=[0.229, 0.224, 0.225])])\n",
    "\n",
    "transformations = transforms.Compose([transforms.Resize((105, 105)),\n",
    "    transforms.ToTensor(),\n",
    "    transforms.Normalize(mean=[0.485, 0.456, 0.406], std=[0.229, 0.224, 0.225])\n",
    "])"
   ]
  },
  {
   "cell_type": "code",
   "execution_count": 4,
   "metadata": {
    "id": "8q8PZYkJzytk"
   },
   "outputs": [],
   "source": [
    "train_ds = GalaxiesDataset_efigi(EFIGI_DIR, EFIGI_CSV, transform=transformations)"
   ]
  },
  {
   "cell_type": "code",
   "execution_count": 5,
   "metadata": {
    "id": "OrzWMnOI7Os_"
   },
   "outputs": [],
   "source": [
    "cl = []\n",
    "for row in range(train_ds.classes_frame.shape[0]):\n",
    "    cl.append(np.argmax(train_ds.classes_frame.loc[:,train_ds.classes_frame.columns[3:]].loc[row]))\n",
    "\n",
    "temp = pd.DataFrame(cl,columns=['cat'])\n",
    "temp['cat'] = temp['cat'].astype('category')\n",
    "temp['cat'] = temp['cat'].cat.codes\n"
   ]
  },
  {
   "cell_type": "code",
   "execution_count": 6,
   "metadata": {
    "id": "trn64MgV7RIV"
   },
   "outputs": [],
   "source": [
    "y = torch.from_numpy(temp.values)\n",
    "train_idx, valid_idx= train_test_split(\n",
    "np.arange(len(y)),\n",
    "test_size=0.4,\n",
    "shuffle=True,\n",
    "    random_state=42,\n",
    "stratify=y)\n",
    "\n",
    "valid_idx, test_idx= train_test_split(\n",
    "np.arange(len(y[valid_idx])),\n",
    "test_size=0.5,\n",
    "shuffle=True,\n",
    "    random_state=42,\n",
    "stratify=y[valid_idx])"
   ]
  },
  {
   "cell_type": "code",
   "execution_count": 7,
   "metadata": {},
   "outputs": [
    {
     "name": "stdout",
     "output_type": "stream",
     "text": [
      "Total: 3122 Train_dl: 6 Validation_dl: 2 Unseen_dl: 2\n"
     ]
    }
   ],
   "source": [
    "size = len(train_ds)\n",
    "indices = list(range(size))\n",
    "split = int(np.floor(VALIDATION_SPLIT * size))\n",
    "if SHUFFLE_DS:\n",
    "    np.random.seed(RANDOM_SEED)\n",
    "    np.random.shuffle(indices)\n",
    "train_indices, val_indices = indices[split:], indices[:split]\n",
    "\n",
    "test_split = int(np.floor(VALIDATION_SPLIT * len(train_indices)))\n",
    "if SHUFFLE_DS:\n",
    "    np.random.seed(RANDOM_SEED)\n",
    "    np.random.shuffle(indices)\n",
    "train_indices, test_indices = train_indices[test_split:], train_indices[:test_split]\n",
    "\n",
    "train_sampler = SubsetRandomSampler(train_idx)\n",
    "val_sampler   = SubsetRandomSampler(valid_idx)\n",
    "test_sampler = SubsetRandomSampler(test_idx)\n",
    "\n",
    "train_dl = DataLoader(train_ds, batch_size=BATCH_SIZE, num_workers=8,\n",
    "                                                 sampler=train_sampler)\n",
    "val_dl = DataLoader(train_ds, batch_size=BATCH_SIZE, num_workers=8,\n",
    "                                                 sampler=val_sampler)\n",
    "unseen_dl = DataLoader(train_ds,batch_size=BATCH_SIZE, num_workers=8,\n",
    "                                                 sampler=test_sampler)\n",
    "print(\"Total: {} Train_dl: {} Validation_dl: {} Unseen_dl: {}\".format(size, len(train_dl),                                                                    \n",
    "                                                              len(val_dl), len(unseen_dl)))"
   ]
  },
  {
   "cell_type": "code",
   "execution_count": 8,
   "metadata": {},
   "outputs": [],
   "source": [
    "device = torch.device(DEVICE)"
   ]
  },
  {
   "cell_type": "code",
   "execution_count": 9,
   "metadata": {},
   "outputs": [],
   "source": [
    "#Change to 'val' if only want to evaluate\n",
    "train_or_val = 'train'"
   ]
  },
  {
   "cell_type": "code",
   "execution_count": 10,
   "metadata": {},
   "outputs": [],
   "source": [
    "mining_function = 'pair' #'triplet' 'pair'\n",
    "loss = 'pnca' #'triplet' 'contrastive' 'panc' 'pnca' 'normsoftmax'"
   ]
  },
  {
   "cell_type": "code",
   "execution_count": 11,
   "metadata": {},
   "outputs": [],
   "source": [
    "if train_or_val == 'train':\n",
    "    model = torch.load('./models/efigi_label_smoothin_128')    \n",
    "    del model.fc[6]\n",
    "    del model.fc[5]\n",
    "    del model.fc[4]\n",
    "if train_or_val == 'val':\n",
    "    pth = './models/efigi{}_{}_128'.format(mining_function, loss)\n",
    "    model = torch.load(pth)"
   ]
  },
  {
   "cell_type": "code",
   "execution_count": 12,
   "metadata": {},
   "outputs": [],
   "source": [
    "optimizer = optim.SGD(model.parameters(), lr=0.00001, momentum=0.05, nesterov=True, weight_decay=0.0005)\n",
    "criterion = LabelSmoothingCrossEntropy(reduction='mean')\n",
    "scheduler = lr_scheduler.ReduceLROnPlateau(optimizer, 'min',patience=3,threshold=0.0001,factor=0.1, verbose=True)"
   ]
  },
  {
   "cell_type": "code",
   "execution_count": 13,
   "metadata": {},
   "outputs": [
    {
     "name": "stdout",
     "output_type": "stream",
     "text": [
      "Training beginning\n",
      "Epoch: 1 Train Loss: 12.203078428904215\n",
      "Epoch: 1 Val Loss: 12.236479759216309\n",
      "Epoch: 2 Train Loss: 12.209271430969238\n",
      "Epoch: 2 Val Loss: 12.265039920806885\n",
      "Epoch: 3 Train Loss: 12.200816790262857\n",
      "Epoch: 3 Val Loss: 12.237751483917236\n",
      "Epoch: 4 Train Loss: 12.201085408528646\n",
      "Epoch: 4 Val Loss: 12.185166835784912\n",
      "Epoch: 5 Train Loss: 12.19572385152181\n",
      "Epoch: 5 Val Loss: 12.203165531158447\n",
      "Epoch: 6 Train Loss: 12.206889629364014\n",
      "Epoch: 6 Val Loss: 12.266556739807129\n",
      "Epoch: 7 Train Loss: 12.21723477045695\n",
      "Epoch: 7 Val Loss: 12.253966331481934\n",
      "Epoch: 8 Train Loss: 12.20636256535848\n",
      "Epoch     8: reducing learning rate of group 0 to 1.0000e-06.\n",
      "Epoch: 8 Val Loss: 12.233958721160889\n",
      "Epoch: 9 Train Loss: 12.194005012512207\n",
      "Epoch: 9 Val Loss: 12.256393432617188\n",
      "Epoch: 10 Train Loss: 12.194367090861002\n",
      "Epoch: 10 Val Loss: 12.18955659866333\n",
      "Epoch: 11 Train Loss: 12.18786096572876\n",
      "Epoch: 11 Val Loss: 12.248773574829102\n",
      "Epoch: 12 Train Loss: 12.186169942220053\n",
      "Epoch    12: reducing learning rate of group 0 to 1.0000e-07.\n",
      "Epoch: 12 Val Loss: 12.262060165405273\n",
      "Epoch: 13 Train Loss: 12.183669726053873\n",
      "Epoch: 13 Val Loss: 12.265391826629639\n",
      "Epoch: 14 Train Loss: 12.18508275349935\n",
      "Epoch: 14 Val Loss: 12.215164184570312\n",
      "Epoch: 15 Train Loss: 12.178358554840088\n",
      "Epoch: 15 Val Loss: 12.194199085235596\n",
      "Epoch: 16 Train Loss: 12.174983183542887\n",
      "Epoch    16: reducing learning rate of group 0 to 1.0000e-08.\n",
      "Epoch: 16 Val Loss: 12.229952335357666\n",
      "Epoch: 17 Train Loss: 12.183597087860107\n",
      "Epoch: 17 Val Loss: 12.218965530395508\n",
      "Epoch: 18 Train Loss: 12.199716726938883\n",
      "Epoch: 18 Val Loss: 12.254512786865234\n",
      "Epoch: 19 Train Loss: 12.20098352432251\n",
      "Epoch: 19 Val Loss: 12.234317779541016\n",
      "Epoch: 20 Train Loss: 12.19658120473226\n",
      "Epoch: 20 Val Loss: 12.253460884094238\n",
      "Epoch: 21 Train Loss: 12.183547814687094\n",
      "Epoch: 21 Val Loss: 12.144344806671143\n",
      "Epoch: 22 Train Loss: 12.185638268788656\n",
      "Epoch: 22 Val Loss: 12.175656795501709\n",
      "Epoch: 23 Train Loss: 12.18955930074056\n",
      "Epoch: 23 Val Loss: 12.188191413879395\n",
      "Epoch: 24 Train Loss: 12.193659146626791\n",
      "Epoch: 24 Val Loss: 12.145122528076172\n",
      "Epoch: 25 Train Loss: 12.176430066426596\n",
      "Epoch: 25 Val Loss: 12.153092384338379\n",
      "Epoch: 26 Train Loss: 12.177369276682535\n",
      "Epoch: 26 Val Loss: 12.24163007736206\n",
      "Epoch: 27 Train Loss: 12.1835568745931\n",
      "Epoch: 27 Val Loss: 12.235918998718262\n",
      "Epoch: 28 Train Loss: 12.181135018666586\n",
      "Epoch: 28 Val Loss: 12.246145725250244\n",
      "Epoch: 29 Train Loss: 12.17319122950236\n",
      "Epoch: 29 Val Loss: 12.260319709777832\n",
      "Epoch: 30 Train Loss: 12.168854713439941\n",
      "Epoch: 30 Val Loss: 12.201661586761475\n",
      "Epoch: 31 Train Loss: 12.175936539967855\n",
      "Epoch: 31 Val Loss: 12.244350910186768\n",
      "Epoch: 32 Train Loss: 12.183438460032145\n",
      "Epoch: 32 Val Loss: 12.239964962005615\n",
      "Epoch: 33 Train Loss: 12.168553511301676\n",
      "Epoch: 33 Val Loss: 12.22047233581543\n",
      "Epoch: 34 Train Loss: 12.174249490102133\n",
      "Epoch: 34 Val Loss: 12.220804214477539\n",
      "Epoch: 35 Train Loss: 12.190391063690186\n",
      "Epoch: 35 Val Loss: 12.214385032653809\n",
      "Epoch: 36 Train Loss: 12.172634919484457\n",
      "Epoch: 36 Val Loss: 12.224270820617676\n",
      "Epoch: 37 Train Loss: 12.17154041926066\n",
      "Epoch: 37 Val Loss: 12.227431297302246\n",
      "Epoch: 38 Train Loss: 12.157220363616943\n",
      "Epoch: 38 Val Loss: 12.17236614227295\n",
      "Epoch: 39 Train Loss: 12.169521967569986\n",
      "Epoch: 39 Val Loss: 12.207101345062256\n",
      "Epoch: 40 Train Loss: 12.167172908782959\n",
      "Epoch: 40 Val Loss: 12.227408409118652\n",
      "Epoch: 41 Train Loss: 12.171846707661947\n",
      "Epoch: 41 Val Loss: 12.16659927368164\n",
      "Epoch: 42 Train Loss: 12.182674566904703\n",
      "Epoch: 42 Val Loss: 12.099761486053467\n",
      "Epoch: 43 Train Loss: 12.173224608103434\n",
      "Epoch: 43 Val Loss: 12.21320390701294\n",
      "Epoch: 44 Train Loss: 12.154221534729004\n",
      "Epoch: 44 Val Loss: 12.200644493103027\n",
      "Epoch: 45 Train Loss: 12.156038920084635\n",
      "Epoch: 45 Val Loss: 12.22773551940918\n",
      "Epoch: 46 Train Loss: 12.171914418538412\n",
      "Epoch: 46 Val Loss: 12.22166109085083\n",
      "Epoch: 47 Train Loss: 12.175405820210775\n",
      "Epoch: 47 Val Loss: 12.100114345550537\n",
      "Epoch: 48 Train Loss: 12.155329068501791\n",
      "Epoch: 48 Val Loss: 12.138422012329102\n",
      "Epoch: 49 Train Loss: 12.15696938832601\n",
      "Epoch: 49 Val Loss: 12.178142070770264\n",
      "Epoch: 50 Train Loss: 12.155323346455893\n",
      "Epoch: 50 Val Loss: 12.226428985595703\n",
      "Epoch: 51 Train Loss: 12.142677625020346\n",
      "Epoch: 51 Val Loss: 12.215399742126465\n",
      "Epoch: 52 Train Loss: 12.150569279988607\n",
      "Epoch: 52 Val Loss: 12.212336540222168\n",
      "Epoch: 53 Train Loss: 12.151329358418783\n",
      "Epoch: 53 Val Loss: 12.15233850479126\n",
      "Epoch: 54 Train Loss: 12.15318504969279\n",
      "Epoch: 54 Val Loss: 12.195855140686035\n",
      "Epoch: 55 Train Loss: 12.168984413146973\n",
      "Epoch: 55 Val Loss: 12.210885047912598\n",
      "Epoch: 56 Train Loss: 12.150551478068033\n",
      "Epoch: 56 Val Loss: 12.2195405960083\n",
      "Epoch: 57 Train Loss: 12.160791556040445\n",
      "Epoch: 57 Val Loss: 12.088381290435791\n",
      "Epoch: 58 Train Loss: 12.160939375559488\n",
      "Epoch: 58 Val Loss: 12.16767406463623\n",
      "Epoch: 59 Train Loss: 12.142605940500895\n",
      "Epoch: 59 Val Loss: 12.206783771514893\n",
      "Epoch: 60 Train Loss: 12.155464967091879\n",
      "Epoch: 60 Val Loss: 12.235069274902344\n",
      "Epoch: 61 Train Loss: 12.15556255976359\n",
      "Epoch: 61 Val Loss: 12.139140605926514\n",
      "Epoch: 62 Train Loss: 12.16277583440145\n",
      "Epoch: 62 Val Loss: 12.194052696228027\n",
      "Epoch: 63 Train Loss: 12.150782108306885\n",
      "Epoch: 63 Val Loss: 12.194018363952637\n",
      "Epoch: 64 Train Loss: 12.147265593210856\n",
      "Epoch: 64 Val Loss: 12.187573432922363\n",
      "Epoch: 65 Train Loss: 12.141479015350342\n",
      "Epoch: 65 Val Loss: 12.179050922393799\n",
      "Epoch: 66 Train Loss: 12.159958044687906\n",
      "Epoch: 66 Val Loss: 12.16238784790039\n",
      "Epoch: 67 Train Loss: 12.13707701365153\n",
      "Epoch: 67 Val Loss: 12.16184377670288\n",
      "Epoch: 68 Train Loss: 12.12903881072998\n",
      "Epoch: 68 Val Loss: 12.17628002166748\n",
      "Epoch: 69 Train Loss: 12.146502017974854\n",
      "Epoch: 69 Val Loss: 12.23673677444458\n",
      "Epoch: 70 Train Loss: 12.140712261199951\n",
      "Epoch: 70 Val Loss: 12.145059585571289\n",
      "Epoch: 71 Train Loss: 12.127158482869467\n",
      "Epoch: 71 Val Loss: 12.098386287689209\n",
      "Epoch: 72 Train Loss: 12.140963077545166\n",
      "Epoch: 72 Val Loss: 12.19745922088623\n",
      "Epoch: 73 Train Loss: 12.137800375620523\n",
      "Epoch: 73 Val Loss: 12.141195297241211\n",
      "Epoch: 74 Train Loss: 12.143224716186523\n",
      "Epoch: 74 Val Loss: 12.122209072113037\n",
      "Epoch: 75 Train Loss: 12.137364387512207\n",
      "Epoch: 75 Val Loss: 12.153939723968506\n",
      "Epoch: 76 Train Loss: 12.141527811686197\n",
      "Epoch: 76 Val Loss: 12.129614353179932\n",
      "Epoch: 77 Train Loss: 12.12288204828898\n",
      "Epoch: 77 Val Loss: 12.105319023132324\n",
      "Epoch: 78 Train Loss: 12.124415715535482\n",
      "Epoch: 78 Val Loss: 12.134761810302734\n",
      "Epoch: 79 Train Loss: 12.12638775507609\n",
      "Epoch: 79 Val Loss: 12.144187450408936\n",
      "Epoch: 80 Train Loss: 12.126988569895426\n",
      "Epoch: 80 Val Loss: 12.12403154373169\n",
      "Epoch: 81 Train Loss: 12.119863033294678\n",
      "Epoch: 81 Val Loss: 12.157167434692383\n",
      "Epoch: 82 Train Loss: 12.127939383188883\n",
      "Epoch: 82 Val Loss: 12.133888244628906\n",
      "Epoch: 83 Train Loss: 12.130350271860758\n",
      "Epoch: 83 Val Loss: 12.207845211029053\n",
      "Epoch: 84 Train Loss: 12.125652313232422\n",
      "Epoch: 84 Val Loss: 12.191988945007324\n",
      "Epoch: 85 Train Loss: 12.12605619430542\n",
      "Epoch: 85 Val Loss: 12.156759262084961\n",
      "Epoch: 86 Train Loss: 12.128592173258463\n",
      "Epoch: 86 Val Loss: 12.094349384307861\n",
      "Epoch: 87 Train Loss: 12.12989616394043\n",
      "Epoch: 87 Val Loss: 12.172637939453125\n",
      "Epoch: 88 Train Loss: 12.104158242543539\n",
      "Epoch: 88 Val Loss: 12.196555137634277\n",
      "Epoch: 89 Train Loss: 12.110812981923422\n",
      "Epoch: 89 Val Loss: 12.13845682144165\n",
      "Epoch: 90 Train Loss: 12.12072499593099\n",
      "Epoch: 90 Val Loss: 12.077696800231934\n",
      "Epoch: 91 Train Loss: 12.12153927485148\n",
      "Epoch: 91 Val Loss: 12.190376281738281\n",
      "Epoch: 92 Train Loss: 12.123689333597818\n",
      "Epoch: 92 Val Loss: 12.198822021484375\n",
      "Epoch: 93 Train Loss: 12.120553652445475\n",
      "Epoch: 93 Val Loss: 12.153725147247314\n",
      "Epoch: 94 Train Loss: 12.12255605061849\n",
      "Epoch: 94 Val Loss: 12.122891902923584\n",
      "Epoch: 95 Train Loss: 12.111390590667725\n",
      "Epoch: 95 Val Loss: 12.1622953414917\n",
      "Epoch: 96 Train Loss: 12.10978364944458\n",
      "Epoch: 96 Val Loss: 12.177974224090576\n",
      "Epoch: 97 Train Loss: 12.118592421213785\n",
      "Epoch: 97 Val Loss: 12.131494045257568\n",
      "Epoch: 98 Train Loss: 12.128861586252848\n",
      "Epoch: 98 Val Loss: 12.100915431976318\n",
      "Epoch: 99 Train Loss: 12.112381935119629\n",
      "Epoch: 99 Val Loss: 12.09987497329712\n",
      "Epoch: 100 Train Loss: 12.10741376876831\n",
      "Epoch: 100 Val Loss: 12.158609867095947\n",
      "Model saved: ./models/pair_pnca_128\n"
     ]
    },
    {
     "data": {
      "image/png": "[encoded data removed]",
      "text/plain": [
       "<Figure size 432x288 with 1 Axes>"
      ]
     },
     "metadata": {
      "needs_background": "light"
     },
     "output_type": "display_data"
    },
    {
     "name": "stdout",
     "output_type": "stream",
     "text": [
      "Training complete\n"
     ]
    }
   ],
   "source": [
    "efigiDML = myEfigiDML(train_dl, val_dl, unseen_dl, model, optimizer, scheduler, criterion,mining_function, \n",
    "                      loss, device=device,BATCH_SIZE=BATCH_SIZE)\n",
    "if train_or_val == 'train':\n",
    "    efigiDML.train(n_epochs=100)"
   ]
  },
  {
   "cell_type": "code",
   "execution_count": 14,
   "metadata": {},
   "outputs": [
    {
     "name": "stdout",
     "output_type": "stream",
     "text": [
      "Total: 1249 Test_dl: 4\n"
     ]
    }
   ],
   "source": [
    "test_ds = GalaxiesDataset_rsa(TEST_DIR, TEST_CSV, transform=transformations)\n",
    "size = len(test_ds)\n",
    "indices = list(range(size))\n",
    "test_sampler = SubsetRandomSampler(indices)\n",
    "test_dl = DataLoader(test_ds, batch_size=BATCH_SIZE, num_workers=4,\n",
    "                                                 sampler=test_sampler)\n",
    "print(\"Total: {} Test_dl: {}\".format(size, len(test_dl)))"
   ]
  },
  {
   "cell_type": "code",
   "execution_count": 15,
   "metadata": {},
   "outputs": [
    {
     "name": "stdout",
     "output_type": "stream",
     "text": [
      "Evaluation on RSA test set beginning:\n",
      "Accuracy on RSA test set: 22.98\n",
      "MAP@R on RSA test set: 0.2948\n"
     ]
    }
   ],
   "source": [
    "res = efigiDML.RSAtest(test_dl)"
   ]
  },
  {
   "cell_type": "code",
   "execution_count": null,
   "metadata": {},
   "outputs": [],
   "source": []
  }
 ],
 "metadata": {
  "accelerator": "GPU",
  "colab": {
   "collapsed_sections": [],
   "name": "test.ipynb",
   "provenance": []
  },
  "kernelspec": {
   "display_name": "Python 3",
   "language": "python",
   "name": "python3"
  },
  "language_info": {
   "codemirror_mode": {
    "name": "ipython",
    "version": 3
   },
   "file_extension": ".py",
   "mimetype": "text/x-python",
   "name": "python",
   "nbconvert_exporter": "python",
   "pygments_lexer": "ipython3",
   "version": "3.7.7"
  }
 },
 "nbformat": 4,
 "nbformat_minor": 4
}
