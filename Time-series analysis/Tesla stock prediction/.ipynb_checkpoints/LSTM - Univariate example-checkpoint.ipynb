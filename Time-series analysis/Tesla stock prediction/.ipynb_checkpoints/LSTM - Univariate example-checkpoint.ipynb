{
 "cells": [
  {
   "cell_type": "code",
   "execution_count": 1,
   "id": "8dcb22b7",
   "metadata": {},
   "outputs": [],
   "source": [
    "import pandas as pd\n",
    "import numpy as np\n",
    "import matplotlib.pyplot as plt\n",
    "from statsmodels.tsa.stattools import adfuller\n",
    "from sklearn.model_selection import train_test_split\n",
    "\n",
    "import tensorflow as tf\n",
    "from tensorflow.keras import datasets, layers, models\n",
    "\n",
    "from sklearn.preprocessing import StandardScaler"
   ]
  },
  {
   "cell_type": "code",
   "execution_count": 2,
   "id": "b053b6af",
   "metadata": {},
   "outputs": [
    {
     "data": {
      "text/html": [
       "<div>\n",
       "<style scoped>\n",
       "    .dataframe tbody tr th:only-of-type {\n",
       "        vertical-align: middle;\n",
       "    }\n",
       "\n",
       "    .dataframe tbody tr th {\n",
       "        vertical-align: top;\n",
       "    }\n",
       "\n",
       "    .dataframe thead th {\n",
       "        text-align: right;\n",
       "    }\n",
       "</style>\n",
       "<table border=\"1\" class=\"dataframe\">\n",
       "  <thead>\n",
       "    <tr style=\"text-align: right;\">\n",
       "      <th></th>\n",
       "      <th>Date</th>\n",
       "      <th>Open</th>\n",
       "      <th>High</th>\n",
       "      <th>Low</th>\n",
       "      <th>Close</th>\n",
       "      <th>Adj Close</th>\n",
       "      <th>Volume</th>\n",
       "    </tr>\n",
       "  </thead>\n",
       "  <tbody>\n",
       "    <tr>\n",
       "      <th>0</th>\n",
       "      <td>2016-08-16</td>\n",
       "      <td>45.098000</td>\n",
       "      <td>45.438000</td>\n",
       "      <td>44.681999</td>\n",
       "      <td>44.722000</td>\n",
       "      <td>44.722000</td>\n",
       "      <td>11335500</td>\n",
       "    </tr>\n",
       "    <tr>\n",
       "      <th>1</th>\n",
       "      <td>2016-08-17</td>\n",
       "      <td>44.866001</td>\n",
       "      <td>44.966000</td>\n",
       "      <td>44.560001</td>\n",
       "      <td>44.647999</td>\n",
       "      <td>44.647999</td>\n",
       "      <td>8935500</td>\n",
       "    </tr>\n",
       "    <tr>\n",
       "      <th>2</th>\n",
       "      <td>2016-08-18</td>\n",
       "      <td>44.764000</td>\n",
       "      <td>45.132000</td>\n",
       "      <td>44.458000</td>\n",
       "      <td>44.702000</td>\n",
       "      <td>44.702000</td>\n",
       "      <td>8572500</td>\n",
       "    </tr>\n",
       "    <tr>\n",
       "      <th>3</th>\n",
       "      <td>2016-08-19</td>\n",
       "      <td>44.708000</td>\n",
       "      <td>45.034000</td>\n",
       "      <td>44.506001</td>\n",
       "      <td>45.000000</td>\n",
       "      <td>45.000000</td>\n",
       "      <td>8297500</td>\n",
       "    </tr>\n",
       "    <tr>\n",
       "      <th>4</th>\n",
       "      <td>2016-08-22</td>\n",
       "      <td>44.834000</td>\n",
       "      <td>45.021999</td>\n",
       "      <td>44.535999</td>\n",
       "      <td>44.585999</td>\n",
       "      <td>44.585999</td>\n",
       "      <td>10327500</td>\n",
       "    </tr>\n",
       "  </tbody>\n",
       "</table>\n",
       "</div>"
      ],
      "text/plain": [
       "         Date       Open       High        Low      Close  Adj Close    Volume\n",
       "0  2016-08-16  45.098000  45.438000  44.681999  44.722000  44.722000  11335500\n",
       "1  2016-08-17  44.866001  44.966000  44.560001  44.647999  44.647999   8935500\n",
       "2  2016-08-18  44.764000  45.132000  44.458000  44.702000  44.702000   8572500\n",
       "3  2016-08-19  44.708000  45.034000  44.506001  45.000000  45.000000   8297500\n",
       "4  2016-08-22  44.834000  45.021999  44.535999  44.585999  44.585999  10327500"
      ]
     },
     "execution_count": 2,
     "metadata": {},
     "output_type": "execute_result"
    }
   ],
   "source": [
    "data = pd.read_csv('./Data/TSLA.csv')\n",
    "data.head()"
   ]
  },
  {
   "cell_type": "code",
   "execution_count": 3,
   "id": "b3841ea5",
   "metadata": {},
   "outputs": [
    {
     "data": {
      "text/plain": [
       "1258"
      ]
     },
     "execution_count": 3,
     "metadata": {},
     "output_type": "execute_result"
    }
   ],
   "source": [
    "data['Date'].nunique()"
   ]
  },
  {
   "cell_type": "code",
   "execution_count": 4,
   "id": "d6d4234f",
   "metadata": {},
   "outputs": [
    {
     "data": {
      "text/plain": [
       "Date         False\n",
       "Open         False\n",
       "High         False\n",
       "Low          False\n",
       "Close        False\n",
       "Adj Close    False\n",
       "Volume       False\n",
       "dtype: bool"
      ]
     },
     "execution_count": 4,
     "metadata": {},
     "output_type": "execute_result"
    }
   ],
   "source": [
    "data.isna().any()"
   ]
  },
  {
   "cell_type": "code",
   "execution_count": 5,
   "id": "7aff6e6a",
   "metadata": {},
   "outputs": [
    {
     "data": {
      "text/plain": [
       "Date         datetime64[ns]\n",
       "Open                float64\n",
       "High                float64\n",
       "Low                 float64\n",
       "Close               float64\n",
       "Adj Close           float64\n",
       "Volume                int64\n",
       "dtype: object"
      ]
     },
     "execution_count": 5,
     "metadata": {},
     "output_type": "execute_result"
    }
   ],
   "source": [
    "data['Date'] = pd.to_datetime(data['Date'])\n",
    "data.dtypes"
   ]
  },
  {
   "cell_type": "markdown",
   "id": "606c195f",
   "metadata": {},
   "source": [
    "### Part 1 : Univariate example\n",
    "#### I.e. [previous close prices] -> next_close_price"
   ]
  },
  {
   "cell_type": "code",
   "execution_count": 6,
   "id": "0347218e",
   "metadata": {},
   "outputs": [
    {
     "data": {
      "text/plain": [
       "Text(0.5, 1.0, 'TESLA stock prices')"
      ]
     },
     "execution_count": 6,
     "metadata": {},
     "output_type": "execute_result"
    },
    {
     "data": {
      "image/png": "[encoded data removed]",
      "text/plain": [
       "<Figure size 640x480 with 1 Axes>"
      ]
     },
     "metadata": {},
     "output_type": "display_data"
    }
   ],
   "source": [
    "univariate = data[['Date', 'Close']].sort_values(by=['Date'], ascending=True)\n",
    "plt.plot(univariate['Date'], univariate['Close'])\n",
    "plt.title('TESLA stock prices')"
   ]
  },
  {
   "cell_type": "markdown",
   "id": "2030aa1a",
   "metadata": {},
   "source": [
    "### Check for stationarity: the statistical properties of a time series (or rather the process generating it) do not change over time\n",
    "#### Here we use the ADF test:\n",
    "#### * Calculate test statistics and p-value\n",
    "#### * If p-value > .05, fail to reject the null Hypothesis, i.e. data is not stationary"
   ]
  },
  {
   "cell_type": "code",
   "execution_count": 7,
   "id": "59105524",
   "metadata": {},
   "outputs": [
    {
     "data": {
      "text/plain": [
       "(0.32732560456343895,\n",
       " 0.9785640149119201,\n",
       " 21,\n",
       " 1236,\n",
       " {'1%': -3.435651725648415,\n",
       "  '5%': -2.863881223119536,\n",
       "  '10%': -2.568016498910778},\n",
       " 9440.827811903462)"
      ]
     },
     "execution_count": 7,
     "metadata": {},
     "output_type": "execute_result"
    }
   ],
   "source": [
    "adfuller(univariate['Close'])"
   ]
  },
  {
   "cell_type": "markdown",
   "id": "4baf910e",
   "metadata": {},
   "source": [
    "#### We can see the p-value (0.98) is > 0.05, i.e. the data is not stationary, so we take the difference df.diff() and test for stationarity again"
   ]
  },
  {
   "cell_type": "code",
   "execution_count": 8,
   "id": "a14efdf2",
   "metadata": {},
   "outputs": [
    {
     "data": {
      "text/plain": [
       "(0.32732560456038345,\n",
       " 0.9785640149117875,\n",
       " 21,\n",
       " 1236,\n",
       " {'1%': -3.435651725648415,\n",
       "  '5%': -2.863881223119536,\n",
       "  '10%': -2.568016498910778},\n",
       " -3957.6754531398474)"
      ]
     },
     "execution_count": 8,
     "metadata": {},
     "output_type": "execute_result"
    }
   ],
   "source": [
    "scaler = StandardScaler()\n",
    "scaler = scaler.fit(univariate['Close'].values.reshape((-1,1)))\n",
    "univariate['Close_diff'] = scaler.transform(univariate['Close'].values.reshape((-1,1)))\n",
    "#univariate['Close'].diff()\n",
    "adfuller(univariate['Close_diff'].fillna(0))"
   ]
  },
  {
   "cell_type": "markdown",
   "id": "6deeddc1",
   "metadata": {},
   "source": [
    "### Now we define a function to create sequences of stock prices to predict the following stock price. We will use a timestep of 7, i.e. 7 days previous stock prices to predict the 8th days stock price\n",
    "#### and rehape into (samples, timestep, variables) required by LSTM"
   ]
  },
  {
   "cell_type": "code",
   "execution_count": 9,
   "id": "c529abed",
   "metadata": {},
   "outputs": [],
   "source": [
    "def generate_univariate_sequences(data, time_step=7):\n",
    "    X, y = [], []\n",
    "    for i in range(len(data)-time_step-1):\n",
    "        a = data[i:(i+time_step)]   \n",
    "        X.append(a)\n",
    "        y.append(data[i + time_step])\n",
    "    return np.array(X), np.array(y)"
   ]
  },
  {
   "cell_type": "code",
   "execution_count": 11,
   "id": "8cf1abe1",
   "metadata": {},
   "outputs": [
    {
     "data": {
      "text/plain": [
       "((1250, 7, 1), (1250,))"
      ]
     },
     "execution_count": 11,
     "metadata": {},
     "output_type": "execute_result"
    }
   ],
   "source": [
    "time_step = 7\n",
    "n_features = 1\n",
    "X, y = generate_univariate_sequences(univariate['Close_diff'].fillna(0).values, time_step = time_step)\n",
    "X = X.reshape((-1, time_step, n_features))\n",
    "X.shape, y.shape"
   ]
  },
  {
   "cell_type": "markdown",
   "id": "772abf23",
   "metadata": {},
   "source": [
    "#### Now we create train and test splits for our data "
   ]
  },
  {
   "cell_type": "code",
   "execution_count": 12,
   "id": "86c2809b",
   "metadata": {},
   "outputs": [
    {
     "data": {
      "text/plain": [
       "((1000, 7, 1), (250, 7, 1), (1000,), (250,))"
      ]
     },
     "execution_count": 12,
     "metadata": {},
     "output_type": "execute_result"
    }
   ],
   "source": [
    "X_train, X_test, y_train, y_test = train_test_split(X,y, test_size=0.2, random_state=42)\n",
    "X_train.shape, X_test.shape, y_train.shape, y_test.shape"
   ]
  },
  {
   "cell_type": "markdown",
   "id": "6e630090",
   "metadata": {},
   "source": [
    "#### Let's create an LSTM model and fit it to our data"
   ]
  },
  {
   "cell_type": "code",
   "execution_count": 15,
   "id": "3010a2f8",
   "metadata": {
    "scrolled": true
   },
   "outputs": [],
   "source": [
    "batch_size = 100\n",
    "opt = tf.keras.optimizers.Adam(learning_rate=0.00001)\n",
    "model = models.Sequential()\n",
    "model.add(layers.LSTM(50, input_shape=(X.shape[1], X.shape[2]), return_sequences=True))\n",
    "model.add(layers.LSTM(25, return_sequences=False))\n",
    "model.add(tf.keras.layers.BatchNormalization())\n",
    "model.add(layers.Dropout(0.25))\n",
    "model.add(layers.Dense(1))\n",
    "model.compile(loss='mean_squared_error', optimizer=opt)"
   ]
  },
  {
   "cell_type": "code",
   "execution_count": 16,
   "id": "5c2dff88",
   "metadata": {},
   "outputs": [
    {
     "name": "stdout",
     "output_type": "stream",
     "text": [
      "Model: \"sequential_1\"\n",
      "_________________________________________________________________\n",
      " Layer (type)                Output Shape              Param #   \n",
      "=================================================================\n",
      " lstm_2 (LSTM)               (None, 7, 50)             10400     \n",
      "                                                                 \n",
      " lstm_3 (LSTM)               (None, 25)                7600      \n",
      "                                                                 \n",
      " batch_normalization_1 (Batc  (None, 25)               100       \n",
      " hNormalization)                                                 \n",
      "                                                                 \n",
      " dropout_1 (Dropout)         (None, 25)                0         \n",
      "                                                                 \n",
      " dense_1 (Dense)             (None, 1)                 26        \n",
      "                                                                 \n",
      "=================================================================\n",
      "Total params: 18,126\n",
      "Trainable params: 18,076\n",
      "Non-trainable params: 50\n",
      "_________________________________________________________________\n"
     ]
    }
   ],
   "source": [
    "model.summary()"
   ]
  },
  {
   "cell_type": "code",
   "execution_count": null,
   "id": "186d2ac1",
   "metadata": {},
   "outputs": [
    {
     "name": "stdout",
     "output_type": "stream",
     "text": [
      "Epoch 1/1000\n"
     ]
    }
   ],
   "source": [
    "history = model.fit(X_train, y_train, epochs=1000, \n",
    "                    batch_size=batch_size, \n",
    "                    validation_split=0.2,\n",
    "                    verbose=1,\n",
    "                    shuffle=False)"
   ]
  },
  {
   "cell_type": "code",
   "execution_count": null,
   "id": "bd16c847",
   "metadata": {},
   "outputs": [],
   "source": [
    "plt.plot(history.history['loss']) \n",
    "plt.plot(history.history['val_loss'])\n",
    "plt.legend(['Train loss', 'Val loss'])"
   ]
  },
  {
   "cell_type": "code",
   "execution_count": null,
   "id": "b9e16738",
   "metadata": {},
   "outputs": [],
   "source": [
    "all_predictions = model.predict(X, batch_size=batch_size)\n",
    "plt.plot(scaler.inverse_transform(all_predictions.reshape((-1,1))))\n",
    "plt.plot(scaler.inverse_transform(y.reshape((-1,1))))"
   ]
  },
  {
   "cell_type": "code",
   "execution_count": null,
   "id": "2309db7e",
   "metadata": {},
   "outputs": [],
   "source": []
  },
  {
   "cell_type": "code",
   "execution_count": null,
   "id": "143dc013",
   "metadata": {},
   "outputs": [],
   "source": []
  }
 ],
 "metadata": {
  "kernelspec": {
   "display_name": "Python 3 (ipykernel)",
   "language": "python",
   "name": "python3"
  },
  "language_info": {
   "codemirror_mode": {
    "name": "ipython",
    "version": 3
   },
   "file_extension": ".py",
   "mimetype": "text/x-python",
   "name": "python",
   "nbconvert_exporter": "python",
   "pygments_lexer": "ipython3",
   "version": "3.9.13"
  }
 },
 "nbformat": 4,
 "nbformat_minor": 5
}
