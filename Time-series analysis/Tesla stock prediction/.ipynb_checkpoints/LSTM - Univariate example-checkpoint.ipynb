{
 "cells": [
  {
   "cell_type": "code",
   "execution_count": 18,
   "id": "8dcb22b7",
   "metadata": {},
   "outputs": [],
   "source": [
    "import pandas as pd\n",
    "import numpy as np\n",
    "import matplotlib.pyplot as plt\n",
    "from statsmodels.tsa.stattools import adfuller\n",
    "from sklearn.model_selection import train_test_split\n",
    "\n",
    "import tensorflow as tf\n",
    "from tensorflow.keras import datasets, layers, models\n",
    "\n",
    "from sklearn.preprocessing import StandardScaler"
   ]
  },
  {
   "cell_type": "code",
   "execution_count": 2,
   "id": "b053b6af",
   "metadata": {},
   "outputs": [
    {
     "data": {
      "text/html": [
       "<div>\n",
       "<style scoped>\n",
       "    .dataframe tbody tr th:only-of-type {\n",
       "        vertical-align: middle;\n",
       "    }\n",
       "\n",
       "    .dataframe tbody tr th {\n",
       "        vertical-align: top;\n",
       "    }\n",
       "\n",
       "    .dataframe thead th {\n",
       "        text-align: right;\n",
       "    }\n",
       "</style>\n",
       "<table border=\"1\" class=\"dataframe\">\n",
       "  <thead>\n",
       "    <tr style=\"text-align: right;\">\n",
       "      <th></th>\n",
       "      <th>Date</th>\n",
       "      <th>Open</th>\n",
       "      <th>High</th>\n",
       "      <th>Low</th>\n",
       "      <th>Close</th>\n",
       "      <th>Adj Close</th>\n",
       "      <th>Volume</th>\n",
       "    </tr>\n",
       "  </thead>\n",
       "  <tbody>\n",
       "    <tr>\n",
       "      <th>0</th>\n",
       "      <td>2016-08-16</td>\n",
       "      <td>45.098000</td>\n",
       "      <td>45.438000</td>\n",
       "      <td>44.681999</td>\n",
       "      <td>44.722000</td>\n",
       "      <td>44.722000</td>\n",
       "      <td>11335500</td>\n",
       "    </tr>\n",
       "    <tr>\n",
       "      <th>1</th>\n",
       "      <td>2016-08-17</td>\n",
       "      <td>44.866001</td>\n",
       "      <td>44.966000</td>\n",
       "      <td>44.560001</td>\n",
       "      <td>44.647999</td>\n",
       "      <td>44.647999</td>\n",
       "      <td>8935500</td>\n",
       "    </tr>\n",
       "    <tr>\n",
       "      <th>2</th>\n",
       "      <td>2016-08-18</td>\n",
       "      <td>44.764000</td>\n",
       "      <td>45.132000</td>\n",
       "      <td>44.458000</td>\n",
       "      <td>44.702000</td>\n",
       "      <td>44.702000</td>\n",
       "      <td>8572500</td>\n",
       "    </tr>\n",
       "    <tr>\n",
       "      <th>3</th>\n",
       "      <td>2016-08-19</td>\n",
       "      <td>44.708000</td>\n",
       "      <td>45.034000</td>\n",
       "      <td>44.506001</td>\n",
       "      <td>45.000000</td>\n",
       "      <td>45.000000</td>\n",
       "      <td>8297500</td>\n",
       "    </tr>\n",
       "    <tr>\n",
       "      <th>4</th>\n",
       "      <td>2016-08-22</td>\n",
       "      <td>44.834000</td>\n",
       "      <td>45.021999</td>\n",
       "      <td>44.535999</td>\n",
       "      <td>44.585999</td>\n",
       "      <td>44.585999</td>\n",
       "      <td>10327500</td>\n",
       "    </tr>\n",
       "  </tbody>\n",
       "</table>\n",
       "</div>"
      ],
      "text/plain": [
       "         Date       Open       High        Low      Close  Adj Close    Volume\n",
       "0  2016-08-16  45.098000  45.438000  44.681999  44.722000  44.722000  11335500\n",
       "1  2016-08-17  44.866001  44.966000  44.560001  44.647999  44.647999   8935500\n",
       "2  2016-08-18  44.764000  45.132000  44.458000  44.702000  44.702000   8572500\n",
       "3  2016-08-19  44.708000  45.034000  44.506001  45.000000  45.000000   8297500\n",
       "4  2016-08-22  44.834000  45.021999  44.535999  44.585999  44.585999  10327500"
      ]
     },
     "execution_count": 2,
     "metadata": {},
     "output_type": "execute_result"
    }
   ],
   "source": [
    "data = pd.read_csv('./Tesla stock prediction/Data/TSLA.csv')\n",
    "data.head()"
   ]
  },
  {
   "cell_type": "code",
   "execution_count": 3,
   "id": "b3841ea5",
   "metadata": {},
   "outputs": [
    {
     "data": {
      "text/plain": [
       "1258"
      ]
     },
     "execution_count": 3,
     "metadata": {},
     "output_type": "execute_result"
    }
   ],
   "source": [
    "data['Date'].nunique()"
   ]
  },
  {
   "cell_type": "code",
   "execution_count": 4,
   "id": "d6d4234f",
   "metadata": {},
   "outputs": [
    {
     "data": {
      "text/plain": [
       "Date         False\n",
       "Open         False\n",
       "High         False\n",
       "Low          False\n",
       "Close        False\n",
       "Adj Close    False\n",
       "Volume       False\n",
       "dtype: bool"
      ]
     },
     "execution_count": 4,
     "metadata": {},
     "output_type": "execute_result"
    }
   ],
   "source": [
    "data.isna().any()"
   ]
  },
  {
   "cell_type": "code",
   "execution_count": 5,
   "id": "7aff6e6a",
   "metadata": {},
   "outputs": [
    {
     "data": {
      "text/plain": [
       "Date         datetime64[ns]\n",
       "Open                float64\n",
       "High                float64\n",
       "Low                 float64\n",
       "Close               float64\n",
       "Adj Close           float64\n",
       "Volume                int64\n",
       "dtype: object"
      ]
     },
     "execution_count": 5,
     "metadata": {},
     "output_type": "execute_result"
    }
   ],
   "source": [
    "data['Date'] = pd.to_datetime(data['Date'])\n",
    "data.dtypes"
   ]
  },
  {
   "cell_type": "markdown",
   "id": "606c195f",
   "metadata": {},
   "source": [
    "### Part 1 : Univariate example\n",
    "#### I.e. [previous close prices] -> next_close_price"
   ]
  },
  {
   "cell_type": "code",
   "execution_count": 6,
   "id": "0347218e",
   "metadata": {},
   "outputs": [
    {
     "data": {
      "text/html": [
       "<div>\n",
       "<style scoped>\n",
       "    .dataframe tbody tr th:only-of-type {\n",
       "        vertical-align: middle;\n",
       "    }\n",
       "\n",
       "    .dataframe tbody tr th {\n",
       "        vertical-align: top;\n",
       "    }\n",
       "\n",
       "    .dataframe thead th {\n",
       "        text-align: right;\n",
       "    }\n",
       "</style>\n",
       "<table border=\"1\" class=\"dataframe\">\n",
       "  <thead>\n",
       "    <tr style=\"text-align: right;\">\n",
       "      <th></th>\n",
       "      <th>Date</th>\n",
       "      <th>Close</th>\n",
       "    </tr>\n",
       "  </thead>\n",
       "  <tbody>\n",
       "    <tr>\n",
       "      <th>0</th>\n",
       "      <td>2016-08-16</td>\n",
       "      <td>44.722000</td>\n",
       "    </tr>\n",
       "    <tr>\n",
       "      <th>1</th>\n",
       "      <td>2016-08-17</td>\n",
       "      <td>44.647999</td>\n",
       "    </tr>\n",
       "    <tr>\n",
       "      <th>2</th>\n",
       "      <td>2016-08-18</td>\n",
       "      <td>44.702000</td>\n",
       "    </tr>\n",
       "    <tr>\n",
       "      <th>3</th>\n",
       "      <td>2016-08-19</td>\n",
       "      <td>45.000000</td>\n",
       "    </tr>\n",
       "    <tr>\n",
       "      <th>4</th>\n",
       "      <td>2016-08-22</td>\n",
       "      <td>44.585999</td>\n",
       "    </tr>\n",
       "  </tbody>\n",
       "</table>\n",
       "</div>"
      ],
      "text/plain": [
       "        Date      Close\n",
       "0 2016-08-16  44.722000\n",
       "1 2016-08-17  44.647999\n",
       "2 2016-08-18  44.702000\n",
       "3 2016-08-19  45.000000\n",
       "4 2016-08-22  44.585999"
      ]
     },
     "execution_count": 6,
     "metadata": {},
     "output_type": "execute_result"
    }
   ],
   "source": [
    "univariate = data[['Date', 'Close']].sort_values(by=['Date'], ascending=True)\n",
    "plt.plot(univariate['Date'], univariate['Close'])\n",
    "plt.title('TESLA stock prices')"
   ]
  },
  {
   "cell_type": "markdown",
   "id": "2030aa1a",
   "metadata": {},
   "source": [
    "### Check for stationarity: the statistical properties of a time series (or rather the process generating it) do not change over time\n",
    "#### Here we use the ADF test:\n",
    "#### * Calculate test statistics and p-value\n",
    "#### * If p-value > .05, fail to reject the null Hypothesis, i.e. data is not stationary"
   ]
  },
  {
   "cell_type": "code",
   "execution_count": 8,
   "id": "59105524",
   "metadata": {},
   "outputs": [
    {
     "data": {
      "text/plain": [
       "(0.32732560456343895,\n",
       " 0.9785640149119201,\n",
       " 21,\n",
       " 1236,\n",
       " {'1%': -3.435651725648415,\n",
       "  '5%': -2.863881223119536,\n",
       "  '10%': -2.568016498910778},\n",
       " 9440.827811903462)"
      ]
     },
     "execution_count": 8,
     "metadata": {},
     "output_type": "execute_result"
    }
   ],
   "source": [
    "adfuller(univariate['Close'])"
   ]
  },
  {
   "cell_type": "markdown",
   "id": "4baf910e",
   "metadata": {},
   "source": [
    "#### We can see the p-value (0.98) is > 0.05, i.e. the data is not stationary, so we take the difference df.diff() and test for stationarity again"
   ]
  },
  {
   "cell_type": "code",
   "execution_count": 31,
   "id": "a14efdf2",
   "metadata": {},
   "outputs": [
    {
     "data": {
      "text/plain": [
       "(0.32732560456038345,\n",
       " 0.9785640149117875,\n",
       " 21,\n",
       " 1236,\n",
       " {'1%': -3.435651725648415,\n",
       "  '5%': -2.863881223119536,\n",
       "  '10%': -2.568016498910778},\n",
       " -3957.6754531398474)"
      ]
     },
     "execution_count": 31,
     "metadata": {},
     "output_type": "execute_result"
    }
   ],
   "source": [
    "scaler = StandardScaler()\n",
    "scaler = scaler.fit(univariate['Close'].values.reshape((-1,1)))\n",
    "univariate['Close_diff'] = scaler.transform(univariate['Close'].values.reshape((-1,1)))\n",
    "#univariate['Close'].diff()\n",
    "adfuller(univariate['Close_diff'].fillna(0))"
   ]
  },
  {
   "cell_type": "markdown",
   "id": "6deeddc1",
   "metadata": {},
   "source": [
    "### Now we define a function to create sequences of stock prices to predict the following stock price. We will use a timestep of 7, i.e. 7 days previous stock prices to predict the 8th days stock price\n",
    "#### and rehape into (samples, timestep, variables) required by LSTM"
   ]
  },
  {
   "cell_type": "code",
   "execution_count": 32,
   "id": "c529abed",
   "metadata": {},
   "outputs": [],
   "source": [
    "def generate_univariate_sequences(data, time_step=7):\n",
    "    X, y = [], []\n",
    "    for i in range(len(data)-time_step-1):\n",
    "        a = data[i:(i+time_step)]   \n",
    "        X.append(a)\n",
    "        y.append(data[i + time_step])\n",
    "    return np.array(X), np.array(y)"
   ]
  },
  {
   "cell_type": "code",
   "execution_count": 33,
   "id": "8cf1abe1",
   "metadata": {},
   "outputs": [
    {
     "data": {
      "text/plain": [
       "((1250, 7, 1), (1250,))"
      ]
     },
     "execution_count": 33,
     "metadata": {},
     "output_type": "execute_result"
    }
   ],
   "source": [
    "time_step = 7\n",
    "\n",
    "if variate == 'uni':\n",
    "    n_features = 1\n",
    "    X, y = generate_univariate_sequences(univariate['Close_diff'].fillna(0).values, time_step = time_step)\n",
    "    X = X.reshape((-1, time_step, n_features))\n",
    "elif variate == 'multi':\n",
    "    n_features = \n",
    "X.shape, y.shape"
   ]
  },
  {
   "cell_type": "markdown",
   "id": "772abf23",
   "metadata": {},
   "source": [
    "#### Now we create train and test splits for our data "
   ]
  },
  {
   "cell_type": "code",
   "execution_count": 34,
   "id": "86c2809b",
   "metadata": {},
   "outputs": [
    {
     "data": {
      "text/plain": [
       "((1000, 7, 1), (250, 7, 1), (1000,), (250,))"
      ]
     },
     "execution_count": 34,
     "metadata": {},
     "output_type": "execute_result"
    }
   ],
   "source": [
    "X_train, X_test, y_train, y_test = train_test_split(X,y, test_size=0.2, random_state=42)\n",
    "X_train.shape, X_test.shape, y_train.shape, y_test.shape"
   ]
  },
  {
   "cell_type": "markdown",
   "id": "6e630090",
   "metadata": {},
   "source": [
    "#### Let's create an LSTM model and fit it to our data"
   ]
  },
  {
   "cell_type": "code",
   "execution_count": 35,
   "id": "3010a2f8",
   "metadata": {
    "scrolled": true
   },
   "outputs": [],
   "source": [
    "batch_size = 100\n",
    "opt = tf.keras.optimizers.Adam(learning_rate=0.00001)\n",
    "model = models.Sequential()\n",
    "model.add(layers.LSTM(50, input_shape=(X.shape[1], X.shape[2]), return_sequences=True))\n",
    "model.add(layers.LSTM(25, return_sequences=False))\n",
    "model.add(tf.keras.layers.BatchNormalization())\n",
    "model.add(layers.Dropout(0.25))\n",
    "model.add(layers.Dense(1))\n",
    "model.compile(loss='mean_squared_error', optimizer='adam')"
   ]
  },
  {
   "cell_type": "code",
   "execution_count": 36,
   "id": "5c2dff88",
   "metadata": {},
   "outputs": [
    {
     "name": "stdout",
     "output_type": "stream",
     "text": [
      "Model: \"sequential_2\"\n",
      "_________________________________________________________________\n",
      " Layer (type)                Output Shape              Param #   \n",
      "=================================================================\n",
      " lstm_4 (LSTM)               (None, 7, 50)             10400     \n",
      "                                                                 \n",
      " lstm_5 (LSTM)               (None, 25)                7600      \n",
      "                                                                 \n",
      " batch_normalization_2 (Batc  (None, 25)               100       \n",
      " hNormalization)                                                 \n",
      "                                                                 \n",
      " dropout_2 (Dropout)         (None, 25)                0         \n",
      "                                                                 \n",
      " dense_2 (Dense)             (None, 1)                 26        \n",
      "                                                                 \n",
      "=================================================================\n",
      "Total params: 18,126\n",
      "Trainable params: 18,076\n",
      "Non-trainable params: 50\n",
      "_________________________________________________________________\n"
     ]
    }
   ],
   "source": [
    "model.summary()"
   ]
  },
  {
   "cell_type": "code",
   "execution_count": 37,
   "id": "186d2ac1",
   "metadata": {},
   "outputs": [
    {
     "name": "stdout",
     "output_type": "stream",
     "text": [
      "Epoch 1/100\n",
      "8/8 [==============================] - 2s 81ms/step - loss: 0.9422 - val_loss: 0.8672\n",
      "Epoch 2/100\n",
      "8/8 [==============================] - 0s 11ms/step - loss: 0.5716 - val_loss: 0.9509\n",
      "Epoch 3/100\n",
      "8/8 [==============================] - 0s 10ms/step - loss: 0.6136 - val_loss: 0.9318\n",
      "Epoch 4/100\n",
      "8/8 [==============================] - 0s 9ms/step - loss: 0.3960 - val_loss: 0.9164\n",
      "Epoch 5/100\n",
      "8/8 [==============================] - 0s 10ms/step - loss: 0.3382 - val_loss: 0.9676\n",
      "Epoch 6/100\n",
      "8/8 [==============================] - 0s 9ms/step - loss: 0.2439 - val_loss: 0.9678\n",
      "Epoch 7/100\n",
      "8/8 [==============================] - 0s 9ms/step - loss: 0.1770 - val_loss: 0.9836\n",
      "Epoch 8/100\n",
      "8/8 [==============================] - 0s 9ms/step - loss: 0.1492 - val_loss: 0.9827\n",
      "Epoch 9/100\n",
      "8/8 [==============================] - 0s 9ms/step - loss: 0.1178 - val_loss: 0.9978\n",
      "Epoch 10/100\n",
      "8/8 [==============================] - 0s 9ms/step - loss: 0.0955 - val_loss: 1.0094\n",
      "Epoch 11/100\n",
      "8/8 [==============================] - 0s 6ms/step - loss: 0.0855 - val_loss: 1.0187\n",
      "Epoch 12/100\n",
      "8/8 [==============================] - 0s 9ms/step - loss: 0.0737 - val_loss: 1.0135\n",
      "Epoch 13/100\n",
      "8/8 [==============================] - 0s 8ms/step - loss: 0.0632 - val_loss: 1.0107\n",
      "Epoch 14/100\n",
      "8/8 [==============================] - 0s 9ms/step - loss: 0.0572 - val_loss: 1.0074\n",
      "Epoch 15/100\n",
      "8/8 [==============================] - 0s 8ms/step - loss: 0.0637 - val_loss: 1.0043\n",
      "Epoch 16/100\n",
      "8/8 [==============================] - 0s 10ms/step - loss: 0.0625 - val_loss: 0.9944\n",
      "Epoch 17/100\n",
      "8/8 [==============================] - 0s 10ms/step - loss: 0.0574 - val_loss: 0.9967\n",
      "Epoch 18/100\n",
      "8/8 [==============================] - 0s 8ms/step - loss: 0.0481 - val_loss: 0.9928\n",
      "Epoch 19/100\n",
      "8/8 [==============================] - 0s 8ms/step - loss: 0.0544 - val_loss: 0.9981\n",
      "Epoch 20/100\n",
      "8/8 [==============================] - 0s 10ms/step - loss: 0.0492 - val_loss: 0.9916\n",
      "Epoch 21/100\n",
      "8/8 [==============================] - 0s 10ms/step - loss: 0.0420 - val_loss: 0.9809\n",
      "Epoch 22/100\n",
      "8/8 [==============================] - 0s 8ms/step - loss: 0.0502 - val_loss: 0.9681\n",
      "Epoch 23/100\n",
      "8/8 [==============================] - 0s 8ms/step - loss: 0.0465 - val_loss: 0.9525\n",
      "Epoch 24/100\n",
      "8/8 [==============================] - 0s 9ms/step - loss: 0.0452 - val_loss: 0.9572\n",
      "Epoch 25/100\n",
      "8/8 [==============================] - 0s 9ms/step - loss: 0.0405 - val_loss: 0.9446\n",
      "Epoch 26/100\n",
      "8/8 [==============================] - 0s 8ms/step - loss: 0.0428 - val_loss: 0.9414\n",
      "Epoch 27/100\n",
      "8/8 [==============================] - 0s 8ms/step - loss: 0.0362 - val_loss: 0.9357\n",
      "Epoch 28/100\n",
      "8/8 [==============================] - 0s 8ms/step - loss: 0.0407 - val_loss: 0.9265\n",
      "Epoch 29/100\n",
      "8/8 [==============================] - 0s 8ms/step - loss: 0.0412 - val_loss: 0.9173\n",
      "Epoch 30/100\n",
      "8/8 [==============================] - 0s 9ms/step - loss: 0.0355 - val_loss: 0.9071\n",
      "Epoch 31/100\n",
      "8/8 [==============================] - 0s 8ms/step - loss: 0.0445 - val_loss: 0.8949\n",
      "Epoch 32/100\n",
      "8/8 [==============================] - 0s 8ms/step - loss: 0.0423 - val_loss: 0.8883\n",
      "Epoch 33/100\n",
      "8/8 [==============================] - 0s 8ms/step - loss: 0.0531 - val_loss: 0.8619\n",
      "Epoch 34/100\n",
      "8/8 [==============================] - 0s 8ms/step - loss: 0.0562 - val_loss: 0.8714\n",
      "Epoch 35/100\n",
      "8/8 [==============================] - 0s 8ms/step - loss: 0.0368 - val_loss: 0.8606\n",
      "Epoch 36/100\n",
      "8/8 [==============================] - 0s 8ms/step - loss: 0.0356 - val_loss: 0.8389\n",
      "Epoch 37/100\n",
      "8/8 [==============================] - 0s 8ms/step - loss: 0.0403 - val_loss: 0.8182\n",
      "Epoch 38/100\n",
      "8/8 [==============================] - 0s 9ms/step - loss: 0.0362 - val_loss: 0.8186\n",
      "Epoch 39/100\n",
      "8/8 [==============================] - 0s 8ms/step - loss: 0.0330 - val_loss: 0.8161\n",
      "Epoch 40/100\n",
      "8/8 [==============================] - 0s 8ms/step - loss: 0.0344 - val_loss: 0.7996\n",
      "Epoch 41/100\n",
      "8/8 [==============================] - 0s 9ms/step - loss: 0.0303 - val_loss: 0.8010\n",
      "Epoch 42/100\n",
      "8/8 [==============================] - 0s 9ms/step - loss: 0.0331 - val_loss: 0.7738\n",
      "Epoch 43/100\n",
      "8/8 [==============================] - 0s 7ms/step - loss: 0.0284 - val_loss: 0.7644\n",
      "Epoch 44/100\n",
      "8/8 [==============================] - 0s 10ms/step - loss: 0.0332 - val_loss: 0.7414\n",
      "Epoch 45/100\n",
      "8/8 [==============================] - 0s 10ms/step - loss: 0.0304 - val_loss: 0.7285\n",
      "Epoch 46/100\n",
      "8/8 [==============================] - 0s 8ms/step - loss: 0.0300 - val_loss: 0.7083\n",
      "Epoch 47/100\n",
      "8/8 [==============================] - 0s 8ms/step - loss: 0.0321 - val_loss: 0.6820\n",
      "Epoch 48/100\n",
      "8/8 [==============================] - 0s 8ms/step - loss: 0.0276 - val_loss: 0.6643\n",
      "Epoch 49/100\n",
      "8/8 [==============================] - 0s 8ms/step - loss: 0.0291 - val_loss: 0.6618\n",
      "Epoch 50/100\n",
      "8/8 [==============================] - 0s 8ms/step - loss: 0.0279 - val_loss: 0.6539\n",
      "Epoch 51/100\n",
      "8/8 [==============================] - 0s 8ms/step - loss: 0.0257 - val_loss: 0.6457\n",
      "Epoch 52/100\n",
      "8/8 [==============================] - 0s 8ms/step - loss: 0.0367 - val_loss: 0.6217\n",
      "Epoch 53/100\n",
      "8/8 [==============================] - 0s 8ms/step - loss: 0.0357 - val_loss: 0.5893\n",
      "Epoch 54/100\n",
      "8/8 [==============================] - 0s 8ms/step - loss: 0.0366 - val_loss: 0.5802\n",
      "Epoch 55/100\n",
      "8/8 [==============================] - 0s 8ms/step - loss: 0.0350 - val_loss: 0.5710\n",
      "Epoch 56/100\n",
      "8/8 [==============================] - 0s 8ms/step - loss: 0.0384 - val_loss: 0.5667\n",
      "Epoch 57/100\n",
      "8/8 [==============================] - 0s 9ms/step - loss: 0.0349 - val_loss: 0.5601\n",
      "Epoch 58/100\n",
      "8/8 [==============================] - 0s 8ms/step - loss: 0.0311 - val_loss: 0.5474\n",
      "Epoch 59/100\n",
      "8/8 [==============================] - 0s 9ms/step - loss: 0.0340 - val_loss: 0.5473\n",
      "Epoch 60/100\n",
      "8/8 [==============================] - 0s 9ms/step - loss: 0.0327 - val_loss: 0.5226\n",
      "Epoch 61/100\n",
      "8/8 [==============================] - 0s 10ms/step - loss: 0.0262 - val_loss: 0.4842\n",
      "Epoch 62/100\n",
      "8/8 [==============================] - 0s 7ms/step - loss: 0.0255 - val_loss: 0.4820\n",
      "Epoch 63/100\n",
      "8/8 [==============================] - 0s 9ms/step - loss: 0.0258 - val_loss: 0.4594\n",
      "Epoch 64/100\n",
      "8/8 [==============================] - 0s 9ms/step - loss: 0.0260 - val_loss: 0.4384\n",
      "Epoch 65/100\n",
      "8/8 [==============================] - 0s 8ms/step - loss: 0.0263 - val_loss: 0.3933\n",
      "Epoch 66/100\n",
      "8/8 [==============================] - 0s 10ms/step - loss: 0.0279 - val_loss: 0.3903\n",
      "Epoch 67/100\n",
      "8/8 [==============================] - 0s 8ms/step - loss: 0.0285 - val_loss: 0.3940\n",
      "Epoch 68/100\n",
      "8/8 [==============================] - 0s 9ms/step - loss: 0.0312 - val_loss: 0.3806\n",
      "Epoch 69/100\n",
      "8/8 [==============================] - 0s 9ms/step - loss: 0.0319 - val_loss: 0.3728\n",
      "Epoch 70/100\n",
      "8/8 [==============================] - 0s 9ms/step - loss: 0.0209 - val_loss: 0.3279\n",
      "Epoch 71/100\n",
      "8/8 [==============================] - 0s 9ms/step - loss: 0.0237 - val_loss: 0.3041\n",
      "Epoch 72/100\n",
      "8/8 [==============================] - 0s 10ms/step - loss: 0.0251 - val_loss: 0.2787\n",
      "Epoch 73/100\n",
      "8/8 [==============================] - 0s 7ms/step - loss: 0.0227 - val_loss: 0.2970\n",
      "Epoch 74/100\n",
      "8/8 [==============================] - 0s 10ms/step - loss: 0.0262 - val_loss: 0.2446\n",
      "Epoch 75/100\n",
      "8/8 [==============================] - 0s 8ms/step - loss: 0.0238 - val_loss: 0.2314\n",
      "Epoch 76/100\n",
      "8/8 [==============================] - 0s 8ms/step - loss: 0.0253 - val_loss: 0.2246\n",
      "Epoch 77/100\n",
      "8/8 [==============================] - 0s 9ms/step - loss: 0.0242 - val_loss: 0.1826\n",
      "Epoch 78/100\n",
      "8/8 [==============================] - 0s 9ms/step - loss: 0.0244 - val_loss: 0.1898\n",
      "Epoch 79/100\n",
      "8/8 [==============================] - 0s 10ms/step - loss: 0.0236 - val_loss: 0.1809\n",
      "Epoch 80/100\n",
      "8/8 [==============================] - 0s 8ms/step - loss: 0.0298 - val_loss: 0.1743\n",
      "Epoch 81/100\n",
      "8/8 [==============================] - 0s 10ms/step - loss: 0.0250 - val_loss: 0.1724\n",
      "Epoch 82/100\n",
      "8/8 [==============================] - 0s 8ms/step - loss: 0.0285 - val_loss: 0.1410\n",
      "Epoch 83/100\n",
      "8/8 [==============================] - 0s 9ms/step - loss: 0.0293 - val_loss: 0.1170\n",
      "Epoch 84/100\n"
     ]
    },
    {
     "name": "stdout",
     "output_type": "stream",
     "text": [
      "8/8 [==============================] - 0s 9ms/step - loss: 0.0295 - val_loss: 0.1066\n",
      "Epoch 85/100\n",
      "8/8 [==============================] - 0s 9ms/step - loss: 0.0273 - val_loss: 0.1201\n",
      "Epoch 86/100\n",
      "8/8 [==============================] - 0s 8ms/step - loss: 0.0270 - val_loss: 0.1187\n",
      "Epoch 87/100\n",
      "8/8 [==============================] - 0s 9ms/step - loss: 0.0290 - val_loss: 0.1083\n",
      "Epoch 88/100\n",
      "8/8 [==============================] - 0s 9ms/step - loss: 0.0273 - val_loss: 0.0910\n",
      "Epoch 89/100\n",
      "8/8 [==============================] - 0s 9ms/step - loss: 0.0284 - val_loss: 0.0926\n",
      "Epoch 90/100\n",
      "8/8 [==============================] - 0s 9ms/step - loss: 0.0248 - val_loss: 0.0785\n",
      "Epoch 91/100\n",
      "8/8 [==============================] - 0s 9ms/step - loss: 0.0261 - val_loss: 0.0704\n",
      "Epoch 92/100\n",
      "8/8 [==============================] - 0s 9ms/step - loss: 0.0266 - val_loss: 0.0625\n",
      "Epoch 93/100\n",
      "8/8 [==============================] - 0s 8ms/step - loss: 0.0247 - val_loss: 0.0695\n",
      "Epoch 94/100\n",
      "8/8 [==============================] - 0s 9ms/step - loss: 0.0244 - val_loss: 0.0648\n",
      "Epoch 95/100\n",
      "8/8 [==============================] - 0s 10ms/step - loss: 0.0265 - val_loss: 0.0529\n",
      "Epoch 96/100\n",
      "8/8 [==============================] - 0s 9ms/step - loss: 0.0250 - val_loss: 0.0309\n",
      "Epoch 97/100\n",
      "8/8 [==============================] - 0s 8ms/step - loss: 0.0265 - val_loss: 0.0394\n",
      "Epoch 98/100\n",
      "8/8 [==============================] - 0s 10ms/step - loss: 0.0263 - val_loss: 0.0324\n",
      "Epoch 99/100\n",
      "8/8 [==============================] - 0s 9ms/step - loss: 0.0236 - val_loss: 0.0240\n",
      "Epoch 100/100\n",
      "8/8 [==============================] - 0s 8ms/step - loss: 0.0312 - val_loss: 0.0292\n"
     ]
    }
   ],
   "source": [
    "history = model.fit(X_train, y_train, epochs=100, \n",
    "                    batch_size=batch_size, \n",
    "                    validation_split=0.2,\n",
    "                    verbose=1,\n",
    "                    shuffle=False)"
   ]
  },
  {
   "cell_type": "code",
   "execution_count": 38,
   "id": "bd16c847",
   "metadata": {},
   "outputs": [
    {
     "data": {
      "text/plain": [
       "<matplotlib.legend.Legend at 0x2781b5d9d30>"
      ]
     },
     "execution_count": 38,
     "metadata": {},
     "output_type": "execute_result"
    },
    {
     "data": {
      "image/png": "[encoded data removed]",
      "text/plain": [
       "<Figure size 640x480 with 1 Axes>"
      ]
     },
     "metadata": {},
     "output_type": "display_data"
    }
   ],
   "source": [
    "plt.plot(history.history['loss']) \n",
    "plt.plot(history.history['val_loss'])\n",
    "plt.legend(['Train loss', 'Val loss'])"
   ]
  },
  {
   "cell_type": "code",
   "execution_count": 46,
   "id": "b9e16738",
   "metadata": {},
   "outputs": [
    {
     "name": "stdout",
     "output_type": "stream",
     "text": [
      "13/13 [==============================] - 0s 3ms/step\n"
     ]
    },
    {
     "data": {
      "text/plain": [
       "[<matplotlib.lines.Line2D at 0x2782f6930d0>]"
      ]
     },
     "execution_count": 46,
     "metadata": {},
     "output_type": "execute_result"
    },
    {
     "data": {
      "image/png": "[encoded data removed]",
      "text/plain": [
       "<Figure size 640x480 with 1 Axes>"
      ]
     },
     "metadata": {},
     "output_type": "display_data"
    }
   ],
   "source": [
    "all_predictions = model.predict(X, batch_size=batch_size)\n",
    "plt.plot(scaler.inverse_transform(all_predictions.reshape((-1,1))))\n",
    "plt.plot(scaler.inverse_transform(y.reshape((-1,1))))"
   ]
  },
  {
   "cell_type": "code",
   "execution_count": null,
   "id": "2309db7e",
   "metadata": {},
   "outputs": [],
   "source": []
  },
  {
   "cell_type": "code",
   "execution_count": null,
   "id": "143dc013",
   "metadata": {},
   "outputs": [],
   "source": []
  }
 ],
 "metadata": {
  "kernelspec": {
   "display_name": "Python 3 (ipykernel)",
   "language": "python",
   "name": "python3"
  },
  "language_info": {
   "codemirror_mode": {
    "name": "ipython",
    "version": 3
   },
   "file_extension": ".py",
   "mimetype": "text/x-python",
   "name": "python",
   "nbconvert_exporter": "python",
   "pygments_lexer": "ipython3",
   "version": "3.9.13"
  }
 },
 "nbformat": 4,
 "nbformat_minor": 5
}
