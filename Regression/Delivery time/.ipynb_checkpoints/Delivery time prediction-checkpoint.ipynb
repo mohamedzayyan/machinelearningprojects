{
 "cells": [
  {
   "cell_type": "markdown",
   "id": "f4da6c58",
   "metadata": {},
   "source": [
    "# To-do:\n",
    "### * Write function to convert order time and order picked time to minutes\n",
    "### * Inlcude the other string features like weather in the featureset\\\n",
    "### * Create a pipeline for model training (maybe generalizable one)"
   ]
  },
  {
   "cell_type": "code",
   "execution_count": 55,
   "id": "2220d5e5",
   "metadata": {},
   "outputs": [],
   "source": [
    "import pandas as pd\n",
    "import numpy as np\n",
    "from math import radians, cos, sin, asin, sqrt\n",
    "from sklearn.preprocessing import StandardScaler\n",
    "\n",
    "from sklearn.model_selection import train_test_split\n",
    "\n",
    "from xgboost import XGBRegressor\n",
    "from sklearn.model_selection import GridSearchCV\n",
    "import matplotlib.pyplot as plt "
   ]
  },
  {
   "cell_type": "code",
   "execution_count": 2,
   "id": "ab838bcd",
   "metadata": {},
   "outputs": [],
   "source": [
    "def haversine(lon1, lat1, lon2, lat2):\n",
    "    \"\"\"\n",
    "    Calculate the great circle distance in kilometers between two points \n",
    "    on the earth (specified in decimal degrees)\n",
    "    \"\"\"\n",
    "    # convert decimal degrees to radians \n",
    "    lon1, lat1, lon2, lat2 = map(radians, [lon1, lat1, lon2, lat2])\n",
    "\n",
    "    # haversine formula \n",
    "    dlon = lon2 - lon1 \n",
    "    dlat = lat2 - lat1 \n",
    "    a = sin(dlat/2)**2 + cos(lat1) * cos(lat2) * sin(dlon/2)**2\n",
    "    c = 2 * asin(sqrt(a)) \n",
    "    r = 6371 # Radius of earth in kilometers. Use 3956 for miles. Determines return value units.\n",
    "    return c * r"
   ]
  },
  {
   "cell_type": "code",
   "execution_count": 3,
   "id": "e888148e",
   "metadata": {},
   "outputs": [
    {
     "data": {
      "text/html": [
       "<div>\n",
       "<style scoped>\n",
       "    .dataframe tbody tr th:only-of-type {\n",
       "        vertical-align: middle;\n",
       "    }\n",
       "\n",
       "    .dataframe tbody tr th {\n",
       "        vertical-align: top;\n",
       "    }\n",
       "\n",
       "    .dataframe thead th {\n",
       "        text-align: right;\n",
       "    }\n",
       "</style>\n",
       "<table border=\"1\" class=\"dataframe\">\n",
       "  <thead>\n",
       "    <tr style=\"text-align: right;\">\n",
       "      <th></th>\n",
       "      <th>ID</th>\n",
       "      <th>Delivery_person_ID</th>\n",
       "      <th>Delivery_person_Age</th>\n",
       "      <th>Delivery_person_Ratings</th>\n",
       "      <th>Restaurant_latitude</th>\n",
       "      <th>Restaurant_longitude</th>\n",
       "      <th>Delivery_location_latitude</th>\n",
       "      <th>Delivery_location_longitude</th>\n",
       "      <th>Order_Date</th>\n",
       "      <th>Time_Orderd</th>\n",
       "      <th>Time_Order_picked</th>\n",
       "      <th>Weatherconditions</th>\n",
       "      <th>Road_traffic_density</th>\n",
       "      <th>Vehicle_condition</th>\n",
       "      <th>Type_of_order</th>\n",
       "      <th>Type_of_vehicle</th>\n",
       "      <th>multiple_deliveries</th>\n",
       "      <th>Festival</th>\n",
       "      <th>City</th>\n",
       "      <th>Time_taken(min)</th>\n",
       "    </tr>\n",
       "  </thead>\n",
       "  <tbody>\n",
       "    <tr>\n",
       "      <th>0</th>\n",
       "      <td>0x4607</td>\n",
       "      <td>INDORES13DEL02</td>\n",
       "      <td>37</td>\n",
       "      <td>4.9</td>\n",
       "      <td>22.745049</td>\n",
       "      <td>75.892471</td>\n",
       "      <td>22.765049</td>\n",
       "      <td>75.912471</td>\n",
       "      <td>19-03-2022</td>\n",
       "      <td>11:30:00</td>\n",
       "      <td>11:45:00</td>\n",
       "      <td>conditions Sunny</td>\n",
       "      <td>High</td>\n",
       "      <td>2</td>\n",
       "      <td>Snack</td>\n",
       "      <td>motorcycle</td>\n",
       "      <td>0</td>\n",
       "      <td>No</td>\n",
       "      <td>Urban</td>\n",
       "      <td>(min) 24</td>\n",
       "    </tr>\n",
       "    <tr>\n",
       "      <th>1</th>\n",
       "      <td>0xb379</td>\n",
       "      <td>BANGRES18DEL02</td>\n",
       "      <td>34</td>\n",
       "      <td>4.5</td>\n",
       "      <td>12.913041</td>\n",
       "      <td>77.683237</td>\n",
       "      <td>13.043041</td>\n",
       "      <td>77.813237</td>\n",
       "      <td>25-03-2022</td>\n",
       "      <td>19:45:00</td>\n",
       "      <td>19:50:00</td>\n",
       "      <td>conditions Stormy</td>\n",
       "      <td>Jam</td>\n",
       "      <td>2</td>\n",
       "      <td>Snack</td>\n",
       "      <td>scooter</td>\n",
       "      <td>1</td>\n",
       "      <td>No</td>\n",
       "      <td>Metropolitian</td>\n",
       "      <td>(min) 33</td>\n",
       "    </tr>\n",
       "    <tr>\n",
       "      <th>2</th>\n",
       "      <td>0x5d6d</td>\n",
       "      <td>BANGRES19DEL01</td>\n",
       "      <td>23</td>\n",
       "      <td>4.4</td>\n",
       "      <td>12.914264</td>\n",
       "      <td>77.678400</td>\n",
       "      <td>12.924264</td>\n",
       "      <td>77.688400</td>\n",
       "      <td>19-03-2022</td>\n",
       "      <td>08:30:00</td>\n",
       "      <td>08:45:00</td>\n",
       "      <td>conditions Sandstorms</td>\n",
       "      <td>Low</td>\n",
       "      <td>0</td>\n",
       "      <td>Drinks</td>\n",
       "      <td>motorcycle</td>\n",
       "      <td>1</td>\n",
       "      <td>No</td>\n",
       "      <td>Urban</td>\n",
       "      <td>(min) 26</td>\n",
       "    </tr>\n",
       "    <tr>\n",
       "      <th>3</th>\n",
       "      <td>0x7a6a</td>\n",
       "      <td>COIMBRES13DEL02</td>\n",
       "      <td>38</td>\n",
       "      <td>4.7</td>\n",
       "      <td>11.003669</td>\n",
       "      <td>76.976494</td>\n",
       "      <td>11.053669</td>\n",
       "      <td>77.026494</td>\n",
       "      <td>05-04-2022</td>\n",
       "      <td>18:00:00</td>\n",
       "      <td>18:10:00</td>\n",
       "      <td>conditions Sunny</td>\n",
       "      <td>Medium</td>\n",
       "      <td>0</td>\n",
       "      <td>Buffet</td>\n",
       "      <td>motorcycle</td>\n",
       "      <td>1</td>\n",
       "      <td>No</td>\n",
       "      <td>Metropolitian</td>\n",
       "      <td>(min) 21</td>\n",
       "    </tr>\n",
       "    <tr>\n",
       "      <th>4</th>\n",
       "      <td>0x70a2</td>\n",
       "      <td>CHENRES12DEL01</td>\n",
       "      <td>32</td>\n",
       "      <td>4.6</td>\n",
       "      <td>12.972793</td>\n",
       "      <td>80.249982</td>\n",
       "      <td>13.012793</td>\n",
       "      <td>80.289982</td>\n",
       "      <td>26-03-2022</td>\n",
       "      <td>13:30:00</td>\n",
       "      <td>13:45:00</td>\n",
       "      <td>conditions Cloudy</td>\n",
       "      <td>High</td>\n",
       "      <td>1</td>\n",
       "      <td>Snack</td>\n",
       "      <td>scooter</td>\n",
       "      <td>1</td>\n",
       "      <td>No</td>\n",
       "      <td>Metropolitian</td>\n",
       "      <td>(min) 30</td>\n",
       "    </tr>\n",
       "  </tbody>\n",
       "</table>\n",
       "</div>"
      ],
      "text/plain": [
       "        ID Delivery_person_ID Delivery_person_Age Delivery_person_Ratings  \\\n",
       "0  0x4607     INDORES13DEL02                   37                     4.9   \n",
       "1  0xb379     BANGRES18DEL02                   34                     4.5   \n",
       "2  0x5d6d     BANGRES19DEL01                   23                     4.4   \n",
       "3  0x7a6a    COIMBRES13DEL02                   38                     4.7   \n",
       "4  0x70a2     CHENRES12DEL01                   32                     4.6   \n",
       "\n",
       "   Restaurant_latitude  Restaurant_longitude  Delivery_location_latitude  \\\n",
       "0            22.745049             75.892471                   22.765049   \n",
       "1            12.913041             77.683237                   13.043041   \n",
       "2            12.914264             77.678400                   12.924264   \n",
       "3            11.003669             76.976494                   11.053669   \n",
       "4            12.972793             80.249982                   13.012793   \n",
       "\n",
       "   Delivery_location_longitude  Order_Date Time_Orderd Time_Order_picked  \\\n",
       "0                    75.912471  19-03-2022    11:30:00          11:45:00   \n",
       "1                    77.813237  25-03-2022    19:45:00          19:50:00   \n",
       "2                    77.688400  19-03-2022    08:30:00          08:45:00   \n",
       "3                    77.026494  05-04-2022    18:00:00          18:10:00   \n",
       "4                    80.289982  26-03-2022    13:30:00          13:45:00   \n",
       "\n",
       "       Weatherconditions Road_traffic_density  Vehicle_condition  \\\n",
       "0       conditions Sunny                High                   2   \n",
       "1      conditions Stormy                 Jam                   2   \n",
       "2  conditions Sandstorms                 Low                   0   \n",
       "3       conditions Sunny              Medium                   0   \n",
       "4      conditions Cloudy                High                   1   \n",
       "\n",
       "  Type_of_order Type_of_vehicle multiple_deliveries Festival            City  \\\n",
       "0        Snack      motorcycle                    0      No           Urban    \n",
       "1        Snack         scooter                    1      No   Metropolitian    \n",
       "2       Drinks      motorcycle                    1      No           Urban    \n",
       "3       Buffet      motorcycle                    1      No   Metropolitian    \n",
       "4        Snack         scooter                    1      No   Metropolitian    \n",
       "\n",
       "  Time_taken(min)  \n",
       "0        (min) 24  \n",
       "1        (min) 33  \n",
       "2        (min) 26  \n",
       "3        (min) 21  \n",
       "4        (min) 30  "
      ]
     },
     "execution_count": 3,
     "metadata": {},
     "output_type": "execute_result"
    }
   ],
   "source": [
    "trainData = pd.read_csv('./Data/train.csv')\n",
    "trainData.head()"
   ]
  },
  {
   "cell_type": "code",
   "execution_count": 4,
   "id": "328954e9",
   "metadata": {},
   "outputs": [
    {
     "data": {
      "text/html": [
       "<div>\n",
       "<style scoped>\n",
       "    .dataframe tbody tr th:only-of-type {\n",
       "        vertical-align: middle;\n",
       "    }\n",
       "\n",
       "    .dataframe tbody tr th {\n",
       "        vertical-align: top;\n",
       "    }\n",
       "\n",
       "    .dataframe thead th {\n",
       "        text-align: right;\n",
       "    }\n",
       "</style>\n",
       "<table border=\"1\" class=\"dataframe\">\n",
       "  <thead>\n",
       "    <tr style=\"text-align: right;\">\n",
       "      <th></th>\n",
       "      <th>ID</th>\n",
       "      <th>Delivery_person_ID</th>\n",
       "      <th>Delivery_person_Age</th>\n",
       "      <th>Delivery_person_Ratings</th>\n",
       "      <th>Restaurant_latitude</th>\n",
       "      <th>Restaurant_longitude</th>\n",
       "      <th>Delivery_location_latitude</th>\n",
       "      <th>Delivery_location_longitude</th>\n",
       "      <th>Order_Date</th>\n",
       "      <th>Time_Orderd</th>\n",
       "      <th>Time_Order_picked</th>\n",
       "      <th>Weatherconditions</th>\n",
       "      <th>Road_traffic_density</th>\n",
       "      <th>Vehicle_condition</th>\n",
       "      <th>Type_of_order</th>\n",
       "      <th>Type_of_vehicle</th>\n",
       "      <th>multiple_deliveries</th>\n",
       "      <th>Festival</th>\n",
       "      <th>City</th>\n",
       "    </tr>\n",
       "  </thead>\n",
       "  <tbody>\n",
       "    <tr>\n",
       "      <th>0</th>\n",
       "      <td>0x2318</td>\n",
       "      <td>COIMBRES13DEL01</td>\n",
       "      <td>NaN</td>\n",
       "      <td>NaN</td>\n",
       "      <td>11.003669</td>\n",
       "      <td>76.976494</td>\n",
       "      <td>11.043669</td>\n",
       "      <td>77.016494</td>\n",
       "      <td>30-03-2022</td>\n",
       "      <td>NaN</td>\n",
       "      <td>15:05:00</td>\n",
       "      <td>conditions NaN</td>\n",
       "      <td>NaN</td>\n",
       "      <td>3</td>\n",
       "      <td>Drinks</td>\n",
       "      <td>electric_scooter</td>\n",
       "      <td>1</td>\n",
       "      <td>No</td>\n",
       "      <td>Metropolitian</td>\n",
       "    </tr>\n",
       "    <tr>\n",
       "      <th>1</th>\n",
       "      <td>0x3474</td>\n",
       "      <td>BANGRES15DEL01</td>\n",
       "      <td>28</td>\n",
       "      <td>4.6</td>\n",
       "      <td>12.975377</td>\n",
       "      <td>77.696664</td>\n",
       "      <td>13.085377</td>\n",
       "      <td>77.806664</td>\n",
       "      <td>29-03-2022</td>\n",
       "      <td>20:30:00</td>\n",
       "      <td>20:35:00</td>\n",
       "      <td>conditions Windy</td>\n",
       "      <td>Jam</td>\n",
       "      <td>0</td>\n",
       "      <td>Snack</td>\n",
       "      <td>motorcycle</td>\n",
       "      <td>1</td>\n",
       "      <td>No</td>\n",
       "      <td>Metropolitian</td>\n",
       "    </tr>\n",
       "    <tr>\n",
       "      <th>2</th>\n",
       "      <td>0x9420</td>\n",
       "      <td>JAPRES09DEL03</td>\n",
       "      <td>23</td>\n",
       "      <td>4.5</td>\n",
       "      <td>26.911378</td>\n",
       "      <td>75.789034</td>\n",
       "      <td>27.001378</td>\n",
       "      <td>75.879034</td>\n",
       "      <td>10-03-2022</td>\n",
       "      <td>19:35:00</td>\n",
       "      <td>19:45:00</td>\n",
       "      <td>conditions Stormy</td>\n",
       "      <td>Jam</td>\n",
       "      <td>0</td>\n",
       "      <td>Drinks</td>\n",
       "      <td>motorcycle</td>\n",
       "      <td>1</td>\n",
       "      <td>No</td>\n",
       "      <td>Metropolitian</td>\n",
       "    </tr>\n",
       "    <tr>\n",
       "      <th>3</th>\n",
       "      <td>0x72ee</td>\n",
       "      <td>JAPRES07DEL03</td>\n",
       "      <td>21</td>\n",
       "      <td>4.8</td>\n",
       "      <td>26.766536</td>\n",
       "      <td>75.837333</td>\n",
       "      <td>26.856536</td>\n",
       "      <td>75.927333</td>\n",
       "      <td>02-04-2022</td>\n",
       "      <td>17:15:00</td>\n",
       "      <td>17:20:00</td>\n",
       "      <td>conditions Fog</td>\n",
       "      <td>Medium</td>\n",
       "      <td>1</td>\n",
       "      <td>Meal</td>\n",
       "      <td>scooter</td>\n",
       "      <td>1</td>\n",
       "      <td>No</td>\n",
       "      <td>Metropolitian</td>\n",
       "    </tr>\n",
       "    <tr>\n",
       "      <th>4</th>\n",
       "      <td>0xa759</td>\n",
       "      <td>CHENRES19DEL01</td>\n",
       "      <td>31</td>\n",
       "      <td>4.6</td>\n",
       "      <td>12.986047</td>\n",
       "      <td>80.218114</td>\n",
       "      <td>13.096047</td>\n",
       "      <td>80.328114</td>\n",
       "      <td>27-03-2022</td>\n",
       "      <td>18:25:00</td>\n",
       "      <td>18:40:00</td>\n",
       "      <td>conditions Sunny</td>\n",
       "      <td>Medium</td>\n",
       "      <td>2</td>\n",
       "      <td>Drinks</td>\n",
       "      <td>scooter</td>\n",
       "      <td>1</td>\n",
       "      <td>No</td>\n",
       "      <td>Metropolitian</td>\n",
       "    </tr>\n",
       "  </tbody>\n",
       "</table>\n",
       "</div>"
      ],
      "text/plain": [
       "        ID Delivery_person_ID Delivery_person_Age Delivery_person_Ratings  \\\n",
       "0  0x2318    COIMBRES13DEL01                 NaN                     NaN    \n",
       "1  0x3474     BANGRES15DEL01                   28                     4.6   \n",
       "2  0x9420      JAPRES09DEL03                   23                     4.5   \n",
       "3  0x72ee      JAPRES07DEL03                   21                     4.8   \n",
       "4  0xa759     CHENRES19DEL01                   31                     4.6   \n",
       "\n",
       "   Restaurant_latitude  Restaurant_longitude  Delivery_location_latitude  \\\n",
       "0            11.003669             76.976494                   11.043669   \n",
       "1            12.975377             77.696664                   13.085377   \n",
       "2            26.911378             75.789034                   27.001378   \n",
       "3            26.766536             75.837333                   26.856536   \n",
       "4            12.986047             80.218114                   13.096047   \n",
       "\n",
       "   Delivery_location_longitude  Order_Date Time_Orderd Time_Order_picked  \\\n",
       "0                    77.016494  30-03-2022        NaN           15:05:00   \n",
       "1                    77.806664  29-03-2022    20:30:00          20:35:00   \n",
       "2                    75.879034  10-03-2022    19:35:00          19:45:00   \n",
       "3                    75.927333  02-04-2022    17:15:00          17:20:00   \n",
       "4                    80.328114  27-03-2022    18:25:00          18:40:00   \n",
       "\n",
       "   Weatherconditions Road_traffic_density  Vehicle_condition Type_of_order  \\\n",
       "0     conditions NaN                 NaN                   3       Drinks    \n",
       "1   conditions Windy                 Jam                   0        Snack    \n",
       "2  conditions Stormy                 Jam                   0       Drinks    \n",
       "3     conditions Fog              Medium                   1         Meal    \n",
       "4   conditions Sunny              Medium                   2       Drinks    \n",
       "\n",
       "     Type_of_vehicle multiple_deliveries Festival            City  \n",
       "0  electric_scooter                    1      No   Metropolitian   \n",
       "1        motorcycle                    1      No   Metropolitian   \n",
       "2        motorcycle                    1      No   Metropolitian   \n",
       "3           scooter                    1      No   Metropolitian   \n",
       "4           scooter                    1      No   Metropolitian   "
      ]
     },
     "execution_count": 4,
     "metadata": {},
     "output_type": "execute_result"
    }
   ],
   "source": [
    "testData = pd.read_csv('./Data/test.csv')\n",
    "testData.head()"
   ]
  },
  {
   "cell_type": "code",
   "execution_count": 5,
   "id": "7b35dd42",
   "metadata": {},
   "outputs": [
    {
     "data": {
      "text/plain": [
       "((45593, 20), (11399, 19))"
      ]
     },
     "execution_count": 5,
     "metadata": {},
     "output_type": "execute_result"
    }
   ],
   "source": [
    "trainData.shape, testData.shape"
   ]
  },
  {
   "cell_type": "code",
   "execution_count": 6,
   "id": "87f208a4",
   "metadata": {},
   "outputs": [],
   "source": [
    "trainData['Weatherconditions'] = trainData['Weatherconditions'].map(lambda x: str(x)[11:])\n",
    "testData['Weatherconditions'] = testData['Weatherconditions'].map(lambda x: str(x)[11:])\n",
    "\n",
    "trainData['Time_taken(min)'] = trainData['Time_taken(min)'].map(lambda x: str(x)[6:])"
   ]
  },
  {
   "cell_type": "code",
   "execution_count": 7,
   "id": "6f7b8c0c",
   "metadata": {},
   "outputs": [
    {
     "name": "stderr",
     "output_type": "stream",
     "text": [
      "C:\\Users\\user\\AppData\\Local\\Temp\\ipykernel_5540\\1823903094.py:2: SettingWithCopyWarning: \n",
      "A value is trying to be set on a copy of a slice from a DataFrame\n",
      "\n",
      "See the caveats in the documentation: https://pandas.pydata.org/pandas-docs/stable/user_guide/indexing.html#returning-a-view-versus-a-copy\n",
      "  trainData[i].loc[trainData[i] == 'NaN '] = np.nan\n",
      "C:\\Users\\user\\AppData\\Local\\Temp\\ipykernel_5540\\1823903094.py:3: SettingWithCopyWarning: \n",
      "A value is trying to be set on a copy of a slice from a DataFrame\n",
      "\n",
      "See the caveats in the documentation: https://pandas.pydata.org/pandas-docs/stable/user_guide/indexing.html#returning-a-view-versus-a-copy\n",
      "  trainData[i].loc[trainData[i] == 'NaN'] = np.nan\n",
      "C:\\Users\\user\\AppData\\Local\\Temp\\ipykernel_5540\\1823903094.py:6: SettingWithCopyWarning: \n",
      "A value is trying to be set on a copy of a slice from a DataFrame\n",
      "\n",
      "See the caveats in the documentation: https://pandas.pydata.org/pandas-docs/stable/user_guide/indexing.html#returning-a-view-versus-a-copy\n",
      "  testData[j].loc[testData[j] == 'NaN '] = np.nan\n",
      "C:\\Users\\user\\AppData\\Local\\Temp\\ipykernel_5540\\1823903094.py:7: SettingWithCopyWarning: \n",
      "A value is trying to be set on a copy of a slice from a DataFrame\n",
      "\n",
      "See the caveats in the documentation: https://pandas.pydata.org/pandas-docs/stable/user_guide/indexing.html#returning-a-view-versus-a-copy\n",
      "  testData[j].loc[testData[j] == 'NaN'] = np.nan\n"
     ]
    }
   ],
   "source": [
    "for i in trainData.columns:\n",
    "    trainData[i].loc[trainData[i] == 'NaN '] = np.nan\n",
    "    trainData[i].loc[trainData[i] == 'NaN'] = np.nan\n",
    "\n",
    "for j in testData.columns:\n",
    "    testData[j].loc[testData[j] == 'NaN '] = np.nan\n",
    "    testData[j].loc[testData[j] == 'NaN'] = np.nan"
   ]
  },
  {
   "cell_type": "code",
   "execution_count": 8,
   "id": "a880c3b8",
   "metadata": {},
   "outputs": [],
   "source": [
    "# delete missing values in Time_Orderd column\n",
    "trainData.dropna(subset=['Time_Orderd'], axis=0, inplace=True)\n",
    "testData.dropna(subset=['Time_Orderd'], axis=0, inplace=True)\n",
    "\n",
    "# fill the missing values with their forward values\n",
    "trainData = trainData.fillna(method='ffill')\n",
    "testData = testData.fillna(method='ffill')"
   ]
  },
  {
   "cell_type": "code",
   "execution_count": 9,
   "id": "137536c5",
   "metadata": {},
   "outputs": [],
   "source": [
    "features = ['Delivery_person_Age', 'Delivery_person_Ratings', 'multiple_deliveries', 'Time_taken(min)']\n",
    "features1 =  ['Delivery_person_Age', 'Delivery_person_Ratings', 'multiple_deliveries']\n",
    "for i in features:\n",
    "    trainData[i] = trainData[i].astype(str).astype(float)\n",
    "    for j in features1:\n",
    "        testData[j] = testData[j].astype(str).astype(float)"
   ]
  },
  {
   "cell_type": "code",
   "execution_count": 12,
   "id": "54a4354b",
   "metadata": {},
   "outputs": [],
   "source": [
    "trainData['Distance(km)'] = trainData.apply(lambda x: haversine(x['Restaurant_latitude'], x['Restaurant_longitude'],\n",
    "                               x['Delivery_location_latitude'], x['Delivery_location_longitude']), axis=1)\n",
    "\n",
    "testData['Distance(km)'] = testData.apply(lambda x: haversine(x['Restaurant_latitude'], x['Restaurant_longitude'],\n",
    "                               x['Delivery_location_latitude'], x['Delivery_location_longitude']), axis=1)"
   ]
  },
  {
   "cell_type": "code",
   "execution_count": 13,
   "id": "11a93958",
   "metadata": {},
   "outputs": [],
   "source": [
    "#avg_ratings = data.groupby(by=['Delivery_person_ID'])['Delivery_person_Ratings'].mean().reset_index()"
   ]
  },
  {
   "cell_type": "code",
   "execution_count": 15,
   "id": "1fa18b9e",
   "metadata": {},
   "outputs": [
    {
     "data": {
      "text/plain": [
       "ID                              object\n",
       "Delivery_person_ID              object\n",
       "Delivery_person_Age            float64\n",
       "Delivery_person_Ratings        float64\n",
       "Restaurant_latitude            float64\n",
       "Restaurant_longitude           float64\n",
       "Delivery_location_latitude     float64\n",
       "Delivery_location_longitude    float64\n",
       "Order_Date                      object\n",
       "Time_Orderd                     object\n",
       "Time_Order_picked               object\n",
       "Weatherconditions               object\n",
       "Road_traffic_density            object\n",
       "Vehicle_condition              float64\n",
       "Type_of_order                   object\n",
       "Type_of_vehicle                 object\n",
       "multiple_deliveries            float64\n",
       "Festival                        object\n",
       "City                            object\n",
       "Time_taken(min)                float64\n",
       "Distance(km)                   float64\n",
       "dtype: object"
      ]
     },
     "execution_count": 15,
     "metadata": {},
     "output_type": "execute_result"
    }
   ],
   "source": [
    "trainData.dtypes"
   ]
  },
  {
   "cell_type": "code",
   "execution_count": 75,
   "id": "7c50212d",
   "metadata": {
    "scrolled": true
   },
   "outputs": [
    {
     "data": {
      "text/plain": [
       "0       2023-02-06 11:30:00\n",
       "1       2023-02-06 19:45:00\n",
       "2       2023-02-06 08:30:00\n",
       "3       2023-02-06 18:00:00\n",
       "4       2023-02-06 13:30:00\n",
       "                ...        \n",
       "45588   2023-02-06 11:35:00\n",
       "45589   2023-02-06 19:55:00\n",
       "45590   2023-02-06 23:50:00\n",
       "45591   2023-02-06 13:35:00\n",
       "45592   2023-02-06 17:10:00\n",
       "Name: Time_Orderd, Length: 43862, dtype: datetime64[ns]"
      ]
     },
     "execution_count": 75,
     "metadata": {},
     "output_type": "execute_result"
    }
   ],
   "source": [
    "pd.to_datetime(trainData['Time_Orderd'])# - pd.to_datetime(trainData['Time_Orderd']))"
   ]
  },
  {
   "cell_type": "code",
   "execution_count": 73,
   "id": "10c281cf",
   "metadata": {},
   "outputs": [
    {
     "data": {
      "text/plain": [
       "Metropolitian     8409\n",
       "Urban             2498\n",
       "Semi-Urban          48\n",
       "Name: City, dtype: int64"
      ]
     },
     "execution_count": 73,
     "metadata": {},
     "output_type": "execute_result"
    }
   ],
   "source": [
    "testData['City'].value_counts()"
   ]
  },
  {
   "cell_type": "code",
   "execution_count": 16,
   "id": "8c5e2401",
   "metadata": {},
   "outputs": [
    {
     "data": {
      "text/plain": [
       "ID                             False\n",
       "Delivery_person_ID             False\n",
       "Delivery_person_Age            False\n",
       "Delivery_person_Ratings        False\n",
       "Restaurant_latitude            False\n",
       "Restaurant_longitude           False\n",
       "Delivery_location_latitude     False\n",
       "Delivery_location_longitude    False\n",
       "Order_Date                     False\n",
       "Time_Orderd                    False\n",
       "Time_Order_picked              False\n",
       "Weatherconditions              False\n",
       "Road_traffic_density           False\n",
       "Vehicle_condition              False\n",
       "Type_of_order                  False\n",
       "Type_of_vehicle                False\n",
       "multiple_deliveries            False\n",
       "Festival                       False\n",
       "City                           False\n",
       "Time_taken(min)                False\n",
       "Distance(km)                   False\n",
       "dtype: bool"
      ]
     },
     "execution_count": 16,
     "metadata": {},
     "output_type": "execute_result"
    }
   ],
   "source": [
    "trainData.isna().any()"
   ]
  },
  {
   "cell_type": "code",
   "execution_count": 17,
   "id": "09403adf",
   "metadata": {},
   "outputs": [
    {
     "data": {
      "text/plain": [
       "(4, 3)"
      ]
     },
     "execution_count": 17,
     "metadata": {},
     "output_type": "execute_result"
    }
   ],
   "source": [
    "trainData['Type_of_order'].nunique(), trainData['Type_of_vehicle'].nunique()"
   ]
  },
  {
   "cell_type": "code",
   "execution_count": 18,
   "id": "30acf416",
   "metadata": {
    "scrolled": true
   },
   "outputs": [
    {
     "data": {
      "text/plain": [
       "Delivery_person_Age        float64\n",
       "Delivery_person_Ratings    float64\n",
       "Distance(km)               float64\n",
       "Type_of_order               object\n",
       "Type_of_vehicle             object\n",
       "Time_taken(min)            float64\n",
       "dtype: object"
      ]
     },
     "execution_count": 18,
     "metadata": {},
     "output_type": "execute_result"
    }
   ],
   "source": [
    "new_train_data = trainData[['Delivery_person_Age', 'Delivery_person_Ratings', 'Distance(km)', 'Type_of_order',\n",
    "                'Type_of_vehicle', 'Time_taken(min)']]\n",
    "new_train_data.dtypes"
   ]
  },
  {
   "cell_type": "code",
   "execution_count": 19,
   "id": "a51cf27b",
   "metadata": {},
   "outputs": [],
   "source": [
    "int_cols = new_train_data.select_dtypes('int')\n",
    "float_cols = new_train_data.select_dtypes('float')\n",
    "str_cols = new_train_data.select_dtypes(object)\n",
    "target_col = ['Time_taken(min)']"
   ]
  },
  {
   "cell_type": "code",
   "execution_count": 32,
   "id": "b8c85576",
   "metadata": {
    "scrolled": true
   },
   "outputs": [],
   "source": [
    "new_train_data = pd.get_dummies(new_train_data, columns=str_cols.columns.tolist())"
   ]
  },
  {
   "cell_type": "code",
   "execution_count": 21,
   "id": "58f508a5",
   "metadata": {},
   "outputs": [
    {
     "data": {
      "text/plain": [
       "array([[<AxesSubplot:title={'center':'Time_taken(min)'}>]], dtype=object)"
      ]
     },
     "execution_count": 21,
     "metadata": {},
     "output_type": "execute_result"
    },
    {
     "data": {
      "image/png": "[encoded data removed]",
      "text/plain": [
       "<Figure size 640x480 with 1 Axes>"
      ]
     },
     "metadata": {},
     "output_type": "display_data"
    }
   ],
   "source": [
    "new_train_data[target_col].hist()"
   ]
  },
  {
   "cell_type": "code",
   "execution_count": 25,
   "id": "df0d5efb",
   "metadata": {},
   "outputs": [
    {
     "name": "stderr",
     "output_type": "stream",
     "text": [
      "C:\\Users\\user\\AppData\\Local\\Temp\\ipykernel_5540\\1707759121.py:3: SettingWithCopyWarning: \n",
      "A value is trying to be set on a copy of a slice from a DataFrame.\n",
      "Try using .loc[row_indexer,col_indexer] = value instead\n",
      "\n",
      "See the caveats in the documentation: https://pandas.pydata.org/pandas-docs/stable/user_guide/indexing.html#returning-a-view-versus-a-copy\n",
      "  new_train_data[target_col] = scaler.transform(new_train_data[target_col].values.reshape((-1,1)))\n"
     ]
    }
   ],
   "source": [
    "scaler = StandardScaler()\n",
    "scaler = scaler.fit(new_train_data[target_col].values.reshape((-1,1)))\n",
    "new_train_data[target_col] = scaler.transform(new_train_data[target_col].values.reshape((-1,1)))"
   ]
  },
  {
   "cell_type": "code",
   "execution_count": 27,
   "id": "29229240",
   "metadata": {},
   "outputs": [
    {
     "data": {
      "text/plain": [
       "array([[<AxesSubplot:title={'center':'Time_taken(min)'}>]], dtype=object)"
      ]
     },
     "execution_count": 27,
     "metadata": {},
     "output_type": "execute_result"
    },
    {
     "data": {
      "image/png": "[encoded data removed]",
      "text/plain": [
       "<Figure size 640x480 with 1 Axes>"
      ]
     },
     "metadata": {},
     "output_type": "display_data"
    }
   ],
   "source": [
    "new_train_data[target_col].hist()"
   ]
  },
  {
   "cell_type": "code",
   "execution_count": 37,
   "id": "50f29e4a",
   "metadata": {},
   "outputs": [
    {
     "data": {
      "text/plain": [
       "Index(['Delivery_person_Age', 'Delivery_person_Ratings', 'Distance(km)',\n",
       "       'Time_taken(min)', 'Type_of_order_Buffet ', 'Type_of_order_Drinks ',\n",
       "       'Type_of_order_Meal ', 'Type_of_order_Snack ',\n",
       "       'Type_of_vehicle_electric_scooter ', 'Type_of_vehicle_motorcycle ',\n",
       "       'Type_of_vehicle_scooter '],\n",
       "      dtype='object')"
      ]
     },
     "execution_count": 37,
     "metadata": {},
     "output_type": "execute_result"
    }
   ],
   "source": [
    "new_train_data.columns"
   ]
  },
  {
   "cell_type": "code",
   "execution_count": 40,
   "id": "69c15a95",
   "metadata": {},
   "outputs": [
    {
     "data": {
      "text/plain": [
       "'Time_taken(min)'"
      ]
     },
     "execution_count": 40,
     "metadata": {},
     "output_type": "execute_result"
    }
   ],
   "source": [
    "target_col[0]"
   ]
  },
  {
   "cell_type": "code",
   "execution_count": 42,
   "id": "fc9e8934",
   "metadata": {},
   "outputs": [],
   "source": [
    "y = new_train_data.pop(target_col[0]).values\n",
    "X = new_train_data.values\n",
    "\n",
    "X_train, X_test, y_train, y_test = train_test_split(X,y, test_size=0.2, random_state=42)"
   ]
  },
  {
   "cell_type": "code",
   "execution_count": 46,
   "id": "632a294a",
   "metadata": {},
   "outputs": [
    {
     "data": {
      "text/plain": [
       "GridSearchCV(cv=5,\n",
       "             estimator=XGBRegressor(base_score=None, booster=None,\n",
       "                                    callbacks=None, colsample_bylevel=None,\n",
       "                                    colsample_bynode=None,\n",
       "                                    colsample_bytree=None,\n",
       "                                    early_stopping_rounds=None,\n",
       "                                    enable_categorical=False, eval_metric=None,\n",
       "                                    feature_types=None, gamma=None, gpu_id=None,\n",
       "                                    grow_policy=None, importance_type=None,\n",
       "                                    interaction_constraints=None,\n",
       "                                    learning_rate=None, m...e,\n",
       "                                    max_cat_threshold=None,\n",
       "                                    max_cat_to_onehot=None, max_delta_step=None,\n",
       "                                    max_depth=None, max_leaves=None,\n",
       "                                    min_child_weight=None, missing=nan,\n",
       "                                    monotone_constraints=None, n_estimators=100,\n",
       "                                    n_jobs=None, num_parallel_tree=None,\n",
       "                                    predictor=None, random_state=None, ...),\n",
       "             param_grid={'learning_rate': [0.1, 0.01, 0.05],\n",
       "                         'max_depth': range(2, 10),\n",
       "                         'n_estimators': range(60, 220, 40)})"
      ]
     },
     "execution_count": 46,
     "metadata": {},
     "output_type": "execute_result"
    }
   ],
   "source": [
    "estimator = XGBRegressor(\n",
    "    objective= 'reg:squarederror',\n",
    "    tree_method='gpu_hist'\n",
    ")\n",
    "param_grid = {\n",
    "    'max_depth': range (2, 10, 1),\n",
    "    'n_estimators': range(60, 220, 40),\n",
    "    'learning_rate': [0.1, 0.01, 0.05]\n",
    "}\n",
    "CV_xgbr = GridSearchCV(estimator=estimator, param_grid=param_grid, cv= 5)\n",
    "CV_xgbr.fit(X_train, y_train)"
   ]
  },
  {
   "cell_type": "code",
   "execution_count": 50,
   "id": "4b6fd42e",
   "metadata": {},
   "outputs": [
    {
     "data": {
      "text/plain": [
       "0.4209158862868687"
      ]
     },
     "execution_count": 50,
     "metadata": {},
     "output_type": "execute_result"
    }
   ],
   "source": [
    "CV_xgbr.score(X_test, y_test)"
   ]
  },
  {
   "cell_type": "code",
   "execution_count": 59,
   "id": "a70fa8bb",
   "metadata": {},
   "outputs": [
    {
     "data": {
      "text/plain": [
       "Text(0.5, 1.0, 'Predicted vs Actual delivery times')"
      ]
     },
     "execution_count": 59,
     "metadata": {},
     "output_type": "execute_result"
    },
    {
     "data": {
      "image/png": "[encoded data removed]",
      "text/plain": [
       "<Figure size 640x480 with 1 Axes>"
      ]
     },
     "metadata": {},
     "output_type": "display_data"
    }
   ],
   "source": [
    "plt.hist(scaler.inverse_transform(CV_xgbr.best_estimator_.predict(X_test).reshape((-1,1))))\n",
    "plt.hist(scaler.inverse_transform(y_test.reshape((-1,1))))\n",
    "plt.legend(['Predictions', 'Actuals'])\n",
    "plt.title('Predicted vs Actual delivery times')"
   ]
  },
  {
   "cell_type": "code",
   "execution_count": null,
   "id": "95bb1f40",
   "metadata": {},
   "outputs": [],
   "source": []
  }
 ],
 "metadata": {
  "kernelspec": {
   "display_name": "Python 3 (ipykernel)",
   "language": "python",
   "name": "python3"
  },
  "language_info": {
   "codemirror_mode": {
    "name": "ipython",
    "version": 3
   },
   "file_extension": ".py",
   "mimetype": "text/x-python",
   "name": "python",
   "nbconvert_exporter": "python",
   "pygments_lexer": "ipython3",
   "version": "3.9.13"
  }
 },
 "nbformat": 4,
 "nbformat_minor": 5
}
